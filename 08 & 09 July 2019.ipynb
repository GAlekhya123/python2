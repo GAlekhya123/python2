{
 "cells": [
  {
   "cell_type": "markdown",
   "metadata": {},
   "source": [
    "### Problem Set:\n",
    "\n",
    "- Function to print all numbers divisible by 6 and not a factor of 100 in a given range(lb, ub) inclusive\n",
    "- Function to find the average of cubes of all even numbers in a given range(lb, ub) inclusive\n",
    "- Function to generate the list of factors for a given number\n",
    "- Function to calculate the factorial of a given number\n",
    "- Function to check if a given number is Prime\n",
    "- Function to calculate the average first N Prime numbers\n",
    "- Function to generate all Perfect numbers in a given range\n",
    "- Advanced Problem Set( Optional )\n",
    "- Function to calculate the average of all factorials in a given range\n",
    "- Function to generate N odd Armstrong numbers\n",
    "- Function to generate Multiplication table for a number in a given range\n",
    "      10 in the range(100, 102) inclusive\n",
    "      10 x 100 = 1000\n",
    "      10 x 101 = 1010\n",
    "      10 x 102 = 1020\n",
    "### Problems That needs a Try\n",
    "\n",
    "- You are given a string and your task is to swap cases. In other words, convert all lowercase letters to uppercase letters and vice versa. (The String may contain special characters).\n",
    "- Given an integer, ’n’ , perform the following conditional actions:\n",
    "    - If ‘n’  is odd, print Weird\n",
    "    - If  ‘n’ is even and in the inclusive range of 2 to 5, print Not Weird\n",
    "    - If  ‘n’ is even and in the inclusive range of 6 to 20 , print Weird\n",
    "    - If  ‘n’ is even and greater than 20, print Not Weird\n",
    "- Given the participants ‘n’ score sheet for your University Sports Day, you are required to find the runner-up score. You are given scores. Store them in a list and find the score of the runner-up. (there can be multiple winners - if their scores match). \n",
    "\n"
   ]
  },
  {
   "cell_type": "code",
   "execution_count": 10,
   "metadata": {},
   "outputs": [
    {
     "name": "stdout",
     "output_type": "stream",
     "text": [
      "1\n",
      "10\n",
      "6 factors\n"
     ]
    }
   ],
   "source": [
    "#Function to print all numbers divisible by 6 and not a factor of 100 in a given range(lb, ub) inclusive\n",
    "\n",
    "def divisible(lb,ub):\n",
    "    for i in range(lb,ub+1):\n",
    "        if i%6==0 and 100%i!=0:\n",
    "            print(i,\"factors\")\n",
    "       \n",
    "divisible(int(input()),int(input()))"
   ]
  },
  {
   "cell_type": "code",
   "execution_count": 18,
   "metadata": {},
   "outputs": [
    {
     "name": "stdout",
     "output_type": "stream",
     "text": [
      "1\n",
      "10\n",
      "360\n",
      "1\n",
      "10\n",
      "360\n"
     ]
    }
   ],
   "source": [
    "#Function to find the average of cubes of all even numbers in a given range(lb, ub) inclusive\n",
    "def averageofcubesofevenno(lb,ub):\n",
    "    lis=[]\n",
    "    list1=[]\n",
    "    for i in range(lb,ub+1):\n",
    "        if i%2==0:\n",
    "            lis.append(i)\n",
    "    for j in lis:\n",
    "        cube=j**3\n",
    "        list1.append(cube)\n",
    "    sum_list1=sum(list1)\n",
    "    avg=sum_list1//len(list1)\n",
    "    print(avg)    \n",
    "            \n",
    "averageofcubesofevenno(int(input()),int(input()))     \n",
    "\n",
    "# alternative method\n",
    "\n",
    "def averageofcubes(lb,ub):\n",
    "    count=0\n",
    "    cube=1\n",
    "    for i in range(lb,ub+1):\n",
    "        if i%2==0:\n",
    "            cube=i**3+cube\n",
    "            count=count+1\n",
    "    avg=cube//count\n",
    "    print(avg)\n",
    "averageofcubes(int(input()),int(input()))\n",
    "\n",
    "\n",
    "\n",
    "\n"
   ]
  },
  {
   "cell_type": "code",
   "execution_count": 8,
   "metadata": {},
   "outputs": [
    {
     "name": "stdout",
     "output_type": "stream",
     "text": [
      "10\n",
      "1\n",
      "2\n",
      "5\n",
      "10\n"
     ]
    }
   ],
   "source": [
    "#Function to generate the list of factors for a given number\n",
    "\n",
    "def listoffactors(n):\n",
    "    #li=[]\n",
    "    for i in range(1,n+1):\n",
    "        if n%i==0:\n",
    "            #li.append(i)\n",
    "            print(i)\n",
    "listoffactors(int(input()))"
   ]
  },
  {
   "cell_type": "code",
   "execution_count": 9,
   "metadata": {},
   "outputs": [
    {
     "name": "stdout",
     "output_type": "stream",
     "text": [
      "5\n",
      "120\n"
     ]
    }
   ],
   "source": [
    "#Function to calculate the factorial of a given number\n",
    "\n",
    "def factioral(n):\n",
    "    fact=1\n",
    "    for i in range(1,n+1):\n",
    "        fact=fact*i\n",
    "    print(fact)\n",
    "factioral(int(input()))"
   ]
  },
  {
   "cell_type": "code",
   "execution_count": 1,
   "metadata": {},
   "outputs": [
    {
     "name": "stdout",
     "output_type": "stream",
     "text": [
      "5\n"
     ]
    },
    {
     "data": {
      "text/plain": [
       "True"
      ]
     },
     "execution_count": 1,
     "metadata": {},
     "output_type": "execute_result"
    }
   ],
   "source": [
    "#Function to check if a given number is Prime\n",
    "\n",
    "def primenumber(n):\n",
    "    count=0\n",
    "    for i in range(1,n+1):\n",
    "        if n%i==0:\n",
    "            count=count+1\n",
    "    if count==2:\n",
    "        return True\n",
    "    return False\n",
    "primenumber(int(input()))\n",
    "\n",
    "\n",
    "\n"
   ]
  },
  {
   "cell_type": "code",
   "execution_count": null,
   "metadata": {},
   "outputs": [
    {
     "name": "stdout",
     "output_type": "stream",
     "text": [
      "10\n"
     ]
    }
   ],
   "source": [
    "#Function to calculate the average first N Prime numbers\n",
    "\n",
    "def averageofprime(N):\n",
    "    #n=2\n",
    "    n=2\n",
    "    count=0\n",
    "    sum1=0\n",
    "   \n",
    "    while 1:\n",
    "\n",
    "        if primenumber(n)==1:\n",
    "            sum1=sum1+n\n",
    "            count=count+1\n",
    "            n=n+1\n",
    "        #print(count)\n",
    "            if count==N:\n",
    "                print(sum1//count)\n",
    "                break\n",
    "averageofprime(int(input()))\n",
    "                \n",
    "        \n",
    "\n"
   ]
  },
  {
   "cell_type": "code",
   "execution_count": 5,
   "metadata": {},
   "outputs": [
    {
     "name": "stdout",
     "output_type": "stream",
     "text": [
      "1\n",
      "30\n",
      "6\n",
      "28\n"
     ]
    }
   ],
   "source": [
    "#Function to generate all Perfect numbers in a given range\n",
    "\n",
    "def perfectnumber(n):\n",
    "    sum1=0\n",
    "    for i in range(1,n):\n",
    "        if n%i==0:\n",
    "            sum1=sum1+i\n",
    "    if sum1==n:\n",
    "        return True\n",
    "    return False\n",
    "#perfectnumber(6)\n",
    "\n",
    "\n",
    "def perfectnumberrange(lb,ub):\n",
    "    for i in range(lb,ub+1):\n",
    "        if perfectnumber(i):\n",
    "            print(i)\n",
    "\n",
    "perfectnumberrange(int(input()),int(input()))\n",
    "\n"
   ]
  },
  {
   "cell_type": "code",
   "execution_count": 19,
   "metadata": {},
   "outputs": [
    {
     "name": "stdout",
     "output_type": "stream",
     "text": [
      "1\n",
      "5\n",
      "153 sum\n",
      "120 fact\n",
      "5 count\n",
      "30\n"
     ]
    }
   ],
   "source": [
    "#Function to calculate the average of all factorials in a given range\n",
    "\n",
    "def factioral(n):\n",
    "    fact=1\n",
    "    for i in range(1,n+1):\n",
    "        fact=fact*i\n",
    "    return (fact)\n",
    "#factioral(int(input()))\n",
    "\n",
    "\n",
    "def factorialrange(lb,ub):\n",
    "    count=0\n",
    "    fact=1\n",
    "    avg=0\n",
    "    sum1=0\n",
    "    for i in range(lb,ub+1):\n",
    "        if factioral(i):\n",
    "            fact=fact*i\n",
    "            sum1=fact+sum1\n",
    "            #print(fact,\"fact\")\n",
    "            count=count+1\n",
    "    print(sum1,\"sum\")\n",
    "    print(fact,\"fact\")\n",
    "    print(count,\"count\")\n",
    "    avg=sum1//count\n",
    "    print(avg)\n",
    "        \n",
    "factorialrange(int(input()),int(input()))       "
   ]
  },
  {
   "cell_type": "code",
   "execution_count": 3,
   "metadata": {},
   "outputs": [
    {
     "name": "stdout",
     "output_type": "stream",
     "text": [
      "1\n",
      "1000\n",
      "1\n",
      "3\n",
      "5\n",
      "7\n",
      "9\n",
      "153\n",
      "371\n",
      "407\n"
     ]
    }
   ],
   "source": [
    "#Function to generate N odd Armstrong numbers\n",
    "def amstrongnumber(n):\n",
    "    m=n\n",
    "    output=0\n",
    "    length=len(str(n))\n",
    "    while n>0:\n",
    "        rem=n%10\n",
    "        output=rem**length+output\n",
    "        n=n//10\n",
    "    #print(output)\n",
    "    if output==m:\n",
    "        return True\n",
    "    return False\n",
    "#amstrongnumber(153)\n",
    "\n",
    "def oddamstrongnumber(lb,ub):\n",
    "    for i in range(lb,ub+1):\n",
    "        if i%2==1:\n",
    "            if amstrongnumber(i):\n",
    "                print(i)\n",
    "oddamstrongnumber(int(input()),int(input()))\n",
    "                        \n",
    "\n",
    "\n",
    "    "
   ]
  },
  {
   "cell_type": "code",
   "execution_count": null,
   "metadata": {},
   "outputs": [],
   "source": [
    "n=2\n",
    "num=1\n",
    "count=0\n",
    "while(count<=n):\n",
    "    if num%2==1:\n",
    "        if amstrongnumber(num):\n",
    "            \n",
    "            count=count+1\n",
    "             num=num+1\n",
    "print(num)        \n"
   ]
  },
  {
   "cell_type": "code",
   "execution_count": 33,
   "metadata": {},
   "outputs": [
    {
     "name": "stdout",
     "output_type": "stream",
     "text": [
      "10\n",
      "100\n",
      "102\n",
      "10 * 100 = 1000\n",
      "10 * 101 = 1010\n",
      "10 * 102 = 1020\n"
     ]
    }
   ],
   "source": [
    "#Function to generate Multiplication table for a number in a given range\n",
    "\n",
    "#10 in the range(100, 102) inclusive\n",
    "#10 x 100 = 1000\n",
    "#10 x 101 = 1010\n",
    "#10 x 102 = 1020\n",
    "\n",
    "def multiplication(table,lb,ub):\n",
    "    for i in range(lb,ub+1):\n",
    "        result=table*i\n",
    "        print(table,\"*\",i,\"=\",result)\n",
    "multiplication(int(input()),int(input()),int(input()))"
   ]
  },
  {
   "cell_type": "code",
   "execution_count": 42,
   "metadata": {},
   "outputs": [
    {
     "name": "stdout",
     "output_type": "stream",
     "text": [
      "aleKHYA\n",
      "ALEkhya"
     ]
    }
   ],
   "source": [
    "#You are given a string and your task is to swap cases. In other words, convert all lowercase letters to uppercase letters and vice versa. (The String may contain special characters).\n",
    "\n",
    "\n",
    "s=input()\n",
    "s.swapcase()\n",
    "\n",
    "#Alternative method\n",
    "s=input()\n",
    "for i in s:\n",
    "    if i.islower():\n",
    "        i=i.upper()\n",
    "        print(i,end=\"\")\n",
    "    elif i.isupper():\n",
    "        i=i.lower()\n",
    "        print(i,end=\"\")\n",
    "        \n",
    "\n"
   ]
  },
  {
   "cell_type": "code",
   "execution_count": 7,
   "metadata": {},
   "outputs": [
    {
     "name": "stdout",
     "output_type": "stream",
     "text": [
      "100\n",
      "Not Weird\n"
     ]
    }
   ],
   "source": [
    "#Given an integer, ’n’ , perform the following conditional actions:\n",
    "#If ‘n’ is odd, print Weird\n",
    "#If ‘n’ is even and in the inclusive range of 2 to 5, print Not Weird\n",
    "#If ‘n’ is even and in the inclusive range of 6 to 20 , print Weird\n",
    "#If ‘n’ is even and greater than 20, print Not Weird\n",
    "\n",
    "n=int(input())\n",
    "if n%2!=0:\n",
    "    print(\"Weird\")\n",
    "\n",
    "elif n%2==0 and n>=2 and n<=5:\n",
    "    print(\"NOt Weird\")\n",
    "elif n%2==0 and n>=6 and n<=20:\n",
    "    print(\"Weird\")\n",
    "    \n",
    "elif n%2==0 and n>=20:\n",
    "    print(\"Not Weird\")\n"
   ]
  },
  {
   "cell_type": "code",
   "execution_count": null,
   "metadata": {},
   "outputs": [],
   "source": [
    "#Given the participants ‘n’ score sheet for your University Sports Day, you are required to find the runner-up score. You are given scores. Store them in a list and find the score of the runner-up. (there can be multiple winners - if their scores match).\n",
    "\n",
    "# d={\"alekhya\":100,\"rekha\":20,\"yamini\":90},print in rank wise order\n",
    "d1={}\n",
    "d={\"alekhya\":10,\"rekha\":20,\"yamini\":90}\n",
    "d_sort=sorted(d.values(),reverse=True)\n",
    "for i in range(0,len(d_sort)):\n",
    "    for j in d.items():\n",
    "        if d_sort[i]==j[1]:\n",
    "            d1[i+1]=j[0]\n",
    "print(d1)\n"
   ]
  }
 ],
 "metadata": {
  "kernelspec": {
   "display_name": "Python 3",
   "language": "python",
   "name": "python3"
  },
  "language_info": {
   "codemirror_mode": {
    "name": "ipython",
    "version": 3
   },
   "file_extension": ".py",
   "mimetype": "text/x-python",
   "name": "python",
   "nbconvert_exporter": "python",
   "pygments_lexer": "ipython3",
   "version": "3.7.3"
  }
 },
 "nbformat": 4,
 "nbformat_minor": 2
}
