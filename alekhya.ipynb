{
 "cells": [
  {
   "cell_type": "markdown",
   "metadata": {},
   "source": [
    "###                                Markdowm Basics\n",
    "\n",
    "* **Bold**\n",
    "* *Italic*\n",
    "* ***IB***\n",
    "* Normal Text\n",
    "    * Sublist1\n",
    "    * Sublist2\n",
    "    \n",
    "\n",
    "1. Ordered list element 1\n",
    "2. Ordered list element 2\n",
    "\n",
    "\n",
    "I get 10 times more traffic from [Google] [1] than from\n",
    "[Yahoo] [2] or [MSN] [3].\n",
    "\n",
    "  [1]: http://google.com/        \"Google\"\n",
    "  [2]: http://search.yahoo.com/  \"Yahoo Search\"\n",
    "  [3]: http://search.msn.com/    \"MSN Search\"\n",
    "  \n",
    ">1. Ordered list element 1\n",
    ">2. Ordered list element 2\n",
    "\n",
    "    printf(\"Hello Markdown\")\n",
    "    \n",
    "<https://google.com>\n",
    "\n",
    "<mardown@google.com>\n",
    "\n",
    "\n",
    "![Jupyter Logo](download.png)\n",
    "[Jupyter Logo](download.png)\n",
    "<img src=\"download.png\">\n",
    "<img src=\"download.png\" style=\"float:left\">\n",
    "\n",
    "\n",
    "\n",
    "\n",
    "\n",
    "\n",
    "\n",
    "\n",
    "\n",
    "\n",
    "\n",
    "   \n",
    "\n",
    "\n",
    "                    \n",
    "                       \n",
    "                       \n",
    "\n"
   ]
  },
  {
   "cell_type": "code",
   "execution_count": null,
   "metadata": {},
   "outputs": [],
   "source": []
  },
  {
   "cell_type": "markdown",
   "metadata": {},
   "source": [
    "### Python Basics\n",
    "\n",
    "Python Version 3.7\n",
    "\n",
    "\n",
    "-Scripting/Interpreted language\n",
    "\n",
    "\n",
    "-object oriented\n",
    "\n",
    "\n",
    "-functional"
   ]
  },
  {
   "cell_type": "code",
   "execution_count": 5,
   "metadata": {},
   "outputs": [
    {
     "name": "stdout",
     "output_type": "stream",
     "text": [
      "alekhya !Hello Python\n"
     ]
    }
   ],
   "source": [
    "#Python Comments\n",
    "\n",
    "print(\"alekhya\",\"!\",end=\" \")\n",
    "print(\"Hello Python\")"
   ]
  },
  {
   "cell_type": "code",
   "execution_count": null,
   "metadata": {},
   "outputs": [],
   "source": []
  },
  {
   "cell_type": "markdown",
   "metadata": {},
   "source": [
    "### **Assignments**"
   ]
  },
  {
   "cell_type": "code",
   "execution_count": 9,
   "metadata": {},
   "outputs": [
    {
     "name": "stdout",
     "output_type": "stream",
     "text": [
      "123 143 153 123456789\n"
     ]
    }
   ],
   "source": [
    "n1=123456789 #single variable assignment\n",
    "n4=n3=n2=n1#multi variable assigmennts\n",
    "#multi variable assignment with different variables\n",
    "a,b,c=123,143,153\n",
    "print(a,b,c,n4)"
   ]
  },
  {
   "cell_type": "code",
   "execution_count": null,
   "metadata": {},
   "outputs": [],
   "source": []
  },
  {
   "cell_type": "markdown",
   "metadata": {},
   "source": [
    "##### Data Types\n",
    "\n",
    " - int\n",
    " \n",
    " - float\n",
    " \n",
    " - string\n",
    " \n",
    " "
   ]
  },
  {
   "cell_type": "code",
   "execution_count": 35,
   "metadata": {},
   "outputs": [
    {
     "data": {
      "text/plain": [
       "str"
      ]
     },
     "execution_count": 35,
     "metadata": {},
     "output_type": "execute_result"
    }
   ],
   "source": [
    "a=21\n",
    "type(a)\n",
    "b=\"python\"\n",
    "type(b)\n",
    "c=12.34\n",
    "type(c)\n",
    "type(str(int(12.34)))"
   ]
  },
  {
   "cell_type": "code",
   "execution_count": null,
   "metadata": {},
   "outputs": [],
   "source": []
  },
  {
   "cell_type": "markdown",
   "metadata": {},
   "source": [
    "### Arithemetic operations\n",
    " - +\n",
    " \n",
    " - -\n",
    " - *\n",
    " - /\n",
    " - %\n",
    " - **"
   ]
  },
  {
   "cell_type": "code",
   "execution_count": null,
   "metadata": {},
   "outputs": [],
   "source": []
  },
  {
   "cell_type": "code",
   "execution_count": 29,
   "metadata": {},
   "outputs": [
    {
     "name": "stdout",
     "output_type": "stream",
     "text": [
      "100000000000000000000\n"
     ]
    }
   ],
   "source": [
    "n1%11\n",
    "n3=n2**235\n",
    "type(n2)\n",
    "len(str(n3))\n",
    "atoms=10 ** 20\n",
    "print(atoms)"
   ]
  },
  {
   "cell_type": "markdown",
   "metadata": {},
   "source": [
    " ### Conditionals"
   ]
  },
  {
   "cell_type": "code",
   "execution_count": 37,
   "metadata": {},
   "outputs": [
    {
     "name": "stdout",
     "output_type": "stream",
     "text": [
      "True\n"
     ]
    }
   ],
   "source": [
    "if atoms<10 **99:\n",
    "    print(\"True\")\n",
    "else:\n",
    "    print(\"false\")\n"
   ]
  },
  {
   "cell_type": "code",
   "execution_count": 43,
   "metadata": {},
   "outputs": [
    {
     "name": "stdout",
     "output_type": "stream",
     "text": [
      "enter n value34\n",
      "34 is even number\n"
     ]
    }
   ],
   "source": [
    "#check if a number is Even\n",
    "\n",
    "n=int(input(\"enter n value\"))\n",
    "if n%2==0:\n",
    "    print(n,\"is even number\")\n",
    "else:\n",
    "    print(n,\"is odd number\")"
   ]
  },
  {
   "cell_type": "code",
   "execution_count": 6,
   "metadata": {},
   "outputs": [
    {
     "name": "stdout",
     "output_type": "stream",
     "text": [
      "enter n1 value23\n",
      "enter n2 value12\n",
      "enter n3 value26\n",
      "26 is largest number\n"
     ]
    }
   ],
   "source": [
    "##### find the greatest of 3 numbers\n",
    "n1=int(input(\"enter n1 value\"))\n",
    "n2=int(input(\"enter n2 value\"))\n",
    "n3=int(input(\"enter n3 value\"))\n",
    "if n1>n2 and n1>n3:\n",
    "    print(\"n1 is largest number\")\n",
    "elif n2>n3 and n2>n1:\n",
    "    print(\"n2 is largest number\")\n",
    "else:\n",
    "    print(n3,\"is largest number\")"
   ]
  },
  {
   "cell_type": "code",
   "execution_count": null,
   "metadata": {},
   "outputs": [],
   "source": [
    "### check if a number exists in a given range\n"
   ]
  },
  {
   "cell_type": "code",
   "execution_count": 8,
   "metadata": {},
   "outputs": [
    {
     "name": "stdout",
     "output_type": "stream",
     "text": [
      "enter a value21\n",
      "not a multiple of 10\n"
     ]
    }
   ],
   "source": [
    "#calculate the number is a multiple of 10\n",
    "a=int(input(\"enter a value\"))\n",
    "if a%10==0:\n",
    "    print(\"multiple of 10\")\n",
    "else:\n",
    "    print(\"not a multiple of 10\")"
   ]
  },
  {
   "cell_type": "code",
   "execution_count": 7,
   "metadata": {},
   "outputs": [
    {
     "name": "stdout",
     "output_type": "stream",
     "text": [
      "enter the year2013\n",
      "not a leap year\n"
     ]
    }
   ],
   "source": [
    "# leap year or not\n",
    "year=int(input(\"enter the year\"))\n",
    "if (year%400==0) or (year%100!=0 and year%4==0):\n",
    "    print(\"leap year\")\n",
    "else:\n",
    "    print(\"not a leap year\")"
   ]
  },
  {
   "cell_type": "code",
   "execution_count": 9,
   "metadata": {},
   "outputs": [
    {
     "name": "stdout",
     "output_type": "stream",
     "text": [
      "alekhya not equal\n"
     ]
    }
   ],
   "source": [
    "#check if given string is equal to a number\n",
    "f1=\"alekhya\"\n",
    "f2=1234\n",
    "if str(f1)==f2:\n",
    "    print(f1,\"equal\")\n",
    "else:\n",
    "    print(f1,\"not equal\")"
   ]
  },
  {
   "cell_type": "code",
   "execution_count": 10,
   "metadata": {},
   "outputs": [
    {
     "name": "stdout",
     "output_type": "stream",
     "text": [
      "enter a1 value23\n",
      "not a factor of 1000\n"
     ]
    }
   ],
   "source": [
    "#check the number is a factor of 1000 or not\n",
    "a1=int(input(\"enter a1 value\"))\n",
    "if 1000%a1==0:\n",
    "    print(\"factor of 1000\")\n",
    "else:\n",
    "    print(\"not a factor of 1000\")"
   ]
  },
  {
   "cell_type": "code",
   "execution_count": 14,
   "metadata": {},
   "outputs": [
    {
     "data": {
      "text/plain": [
       "1.4142135623730951"
      ]
     },
     "execution_count": 14,
     "metadata": {},
     "output_type": "execute_result"
    }
   ],
   "source": [
    "#calculate the squareroot without using functions\n",
    "a1=2\n",
    "a1 ** 0.5"
   ]
  },
  {
   "cell_type": "code",
   "execution_count": null,
   "metadata": {},
   "outputs": [],
   "source": [
    "#calculate the number of nano sec in a given year\n",
    "year=int(input(\"enter the year\"))\n",
    "if (year%400==0) or (year%100!=0 and year%4==0):\n",
    "    "
   ]
  },
  {
   "cell_type": "code",
   "execution_count": 15,
   "metadata": {},
   "outputs": [
    {
     "name": "stdout",
     "output_type": "stream",
     "text": [
      "enter a1 value1000\n",
      "1\n",
      "2\n",
      "4\n",
      "5\n",
      "8\n",
      "10\n",
      "20\n",
      "25\n",
      "40\n",
      "50\n",
      "100\n",
      "125\n",
      "200\n",
      "250\n",
      "500\n",
      "1000\n"
     ]
    }
   ],
   "source": [
    "#check the number is a factor of 1000 or not\n",
    "a1=int(input(\"enter a1 value\"))\n",
    "for i in range(1,a1+1):\n",
    "    if a1%i==0:\n",
    "        print(i)"
   ]
  },
  {
   "cell_type": "code",
   "execution_count": null,
   "metadata": {},
   "outputs": [],
   "source": []
  },
  {
   "cell_type": "code",
   "execution_count": null,
   "metadata": {},
   "outputs": [],
   "source": []
  },
  {
   "cell_type": "code",
   "execution_count": null,
   "metadata": {},
   "outputs": [],
   "source": []
  },
  {
   "cell_type": "code",
   "execution_count": null,
   "metadata": {},
   "outputs": [],
   "source": []
  }
 ],
 "metadata": {
  "kernelspec": {
   "display_name": "Python 3",
   "language": "python",
   "name": "python3"
  },
  "language_info": {
   "codemirror_mode": {
    "name": "ipython",
    "version": 3
   },
   "file_extension": ".py",
   "mimetype": "text/x-python",
   "name": "python",
   "nbconvert_exporter": "python",
   "pygments_lexer": "ipython3",
   "version": "3.7.3"
  }
 },
 "nbformat": 4,
 "nbformat_minor": 2
}
