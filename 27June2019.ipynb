{
 "cells": [
  {
   "cell_type": "code",
   "execution_count": 1,
   "metadata": {},
   "outputs": [
    {
     "name": "stdout",
     "output_type": "stream",
     "text": [
      "1 2\n",
      "1 3\n",
      "1 4\n",
      "1 5\n",
      "2 3\n",
      "2 4\n",
      "2 5\n",
      "3 4\n",
      "3 5\n",
      "4 5\n"
     ]
    }
   ],
   "source": [
    "#Function to print all combinations of pairs of integers in a \n",
    "#-->[1,2,3]-->(1,2),(1,3),(2,3)-->3c2-->3!/((3-2)!*2!)   ncr=n!/((n-r)!*r!)\n",
    "\n",
    "def combinations(li):\n",
    "    for i in range(len(li)-1):\n",
    "        #print(i,\"ivalue\")\n",
    "        for j in range(i+1,len(li)):\n",
    "            #print(j,\"jvalue\")\n",
    "            print(li[i],li[j])\n",
    "    return\n",
    "li=[1,2,3,4,5]\n",
    "combinations(li)\n",
    "        "
   ]
  },
  {
   "cell_type": "code",
   "execution_count": 2,
   "metadata": {},
   "outputs": [
    {
     "name": "stdout",
     "output_type": "stream",
     "text": [
      "1 2 3\n",
      "1 2 4\n",
      "1 3 4\n",
      "2 3 4\n"
     ]
    }
   ],
   "source": [
    "#Function to print all combinations of pairs of integers in a \n",
    "#-->[1,2,3,4]-->1,2,3   1,2,4   1,3,4   2,3,4\n",
    "#combinations of 3 elements\n",
    "def combinations(li):\n",
    "    for i in range(len(li)-2):\n",
    "        for j in range(i+1,len(li)-1):\n",
    "            for k in range(j+1,len(li)):\n",
    "                print(li[i],li[j],li[k])\n",
    "    return\n",
    "li=[1,2,3,4]\n",
    "combinations(li)"
   ]
  },
  {
   "cell_type": "code",
   "execution_count": null,
   "metadata": {},
   "outputs": [],
   "source": [
    "#difference of pairs\n",
    "def medium(li,k):\n",
    "    while(True):\n",
    "        li3=differencepairs(li)\n",
    "        if li3[0]==li[1]:\n",
    "            break\n",
    "    if len(li(3))>=k:\n",
    "        return sorted(sorted(li3[0]),reverse=True)[k-1]\n",
    "    else:\n",
    "        return -1\n",
    "def differencepairs(li):\n",
    "    cli=li[:]\n",
    "    newelements = []\n",
    "    for i in range(len(li)-1):\n",
    "        for j in range(i+1,len(li)):\n",
    "            d=abs(li[i]-li[j])\n",
    "            if d not in li and d not in newelements:\n",
    "                newelements.append(d)\n",
    "    li.extend(newelements)\n",
    "\n",
    "    return [cli,li]\n",
    "li=[1,9]\n",
    "#differencepairs(li)\n",
    "medium(li,2)\n",
    "            "
   ]
  },
  {
   "cell_type": "code",
   "execution_count": 3,
   "metadata": {},
   "outputs": [
    {
     "data": {
      "text/plain": [
       "[2, 3, 6, 9, 12, 1, 4, 7, 8, 11, 10, 5]"
      ]
     },
     "execution_count": 3,
     "metadata": {},
     "output_type": "execute_result"
    }
   ],
   "source": [
    "def differncepairs_test(li):\n",
    "    c=li.copy()\n",
    "    newelements=[]\n",
    "    for i in range(len(li)-1):\n",
    "        for j in range(i+1,len(li)):\n",
    "            d=abs(li[i]-li[j])\n",
    "            if d not in li and d not in newelements:\n",
    "                newelements.append(d)\n",
    "    li.extend(newelements)\n",
    "    return li\n",
    "li=[2,3,6,9,12,1,4,7,8,11]\n",
    "\n",
    "differncepairs_test(li)"
   ]
  },
  {
   "cell_type": "markdown",
   "metadata": {},
   "source": [
    "### Set-Data structure in Python\n",
    "\n",
    "- Represented by { }\n",
    "\n",
    "- It is a mutable function"
   ]
  },
  {
   "cell_type": "code",
   "execution_count": 7,
   "metadata": {},
   "outputs": [
    {
     "name": "stdout",
     "output_type": "stream",
     "text": [
      "1 2 3 4 5 6 7 "
     ]
    }
   ],
   "source": [
    "a={1,2,3,4,5,6,6}\n",
    "\n",
    "a.add(7)# adding a single element\n",
    "\n",
    "\n",
    "for i in a:\n",
    "    print(i,end=\" \")"
   ]
  },
  {
   "cell_type": "code",
   "execution_count": 8,
   "metadata": {},
   "outputs": [
    {
     "data": {
      "text/plain": [
       "{1, 2, 3, 4, 5, 6}"
      ]
     },
     "execution_count": 8,
     "metadata": {},
     "output_type": "execute_result"
    }
   ],
   "source": [
    "a={1,2,3}\n",
    "b={2,3,4,5,6}\n",
    "#adding number of elements\n",
    "a.update(b) # it removes the repetition elements\n",
    "a"
   ]
  },
  {
   "cell_type": "code",
   "execution_count": 11,
   "metadata": {},
   "outputs": [
    {
     "data": {
      "text/plain": [
       "{1, 2, 3, 4, 5, 6, 8}"
      ]
     },
     "execution_count": 11,
     "metadata": {},
     "output_type": "execute_result"
    }
   ],
   "source": [
    "a={1,2,3}\n",
    "b=(2,3,4,5,6)\n",
    "c=[1,2,3,8]\n",
    "#adding number of elements\n",
    "a.update(b,c) # it removes the repetition elements\n",
    "a"
   ]
  },
  {
   "cell_type": "code",
   "execution_count": 9,
   "metadata": {},
   "outputs": [
    {
     "data": {
      "text/plain": [
       "{1, 2, 3, 4, 5, 6, 7, 8}"
      ]
     },
     "execution_count": 9,
     "metadata": {},
     "output_type": "execute_result"
    }
   ],
   "source": [
    "a={1,2,3,4,5,6,7,8}\n",
    "a.discard(10) #removing value 10 in set a\n",
    "a\n",
    "#we can use a.remove(value) but if value is not not present in set it shows key error so,it is better to use discard method "
   ]
  },
  {
   "cell_type": "code",
   "execution_count": 17,
   "metadata": {},
   "outputs": [
    {
     "data": {
      "text/plain": [
       "{1, 2, 3, 4}"
      ]
     },
     "execution_count": 17,
     "metadata": {},
     "output_type": "execute_result"
    }
   ],
   "source": [
    "a={1,2,3,4,4}\n",
    "b={2,3,4}\n",
    "a.union(b) # it prints all the elements in a and b\n",
    "\n",
    "#a U b = b U a "
   ]
  },
  {
   "cell_type": "code",
   "execution_count": 18,
   "metadata": {},
   "outputs": [
    {
     "data": {
      "text/plain": [
       "{2, 3, 4}"
      ]
     },
     "execution_count": 18,
     "metadata": {},
     "output_type": "execute_result"
    }
   ],
   "source": [
    "a={1,2,3,4,4}\n",
    "b={2,3,4}\n",
    "a.intersection(b)"
   ]
  },
  {
   "cell_type": "markdown",
   "metadata": {},
   "source": [
    "- Set Methods\n",
    "- Python has a set of built-in methods that you can use on sets.\n",
    "\n",
    "- Method\tDescription\n",
    "- add()\tAdds an element to the set\n",
    "- clear()\tRemoves all the elements from the set\n",
    "- copy()\tReturns a copy of the set\n",
    "- -difference()\tReturns a set containing the difference between two or more sets\n",
    "- difference_update()\tRemoves the items in this set that are also included in another, specified set\n",
    "- discard()\tRemove the specified item\n",
    "- intersection()\tReturns a set, that is the intersection of two other sets\n",
    "- intersection_update()\tRemoves the items in this set that are not present in other, specified set(s)\n",
    "- isdisjoint()\tReturns whether two sets have a intersection or not\n",
    "- issubset()\tReturns whether another set contains this set or not\n",
    "- issuperset()\tReturns whether this set contains another set or not\n",
    "- pop()\tRemoves an element from the set\n",
    "- remove()\tRemoves the specified element\n",
    "- symmetric_difference()\tReturns a set with the symmetric differences of two sets\n",
    "- symmetric_difference_update()\tinserts the symmetric differences from this set and another\n",
    "- union()\tReturn a set containing the union of sets\n",
    "- update()\tUpdate the set with the union of this set and others"
   ]
  },
  {
   "cell_type": "code",
   "execution_count": 17,
   "metadata": {},
   "outputs": [],
   "source": [
    "a={1,2,3,4,4}\n",
    "b={2,3,4,8,1}\n",
    "a.intersection_update(b)#it wont returns the values but it updates\n"
   ]
  },
  {
   "cell_type": "code",
   "execution_count": 22,
   "metadata": {},
   "outputs": [
    {
     "data": {
      "text/plain": [
       "False"
      ]
     },
     "execution_count": 22,
     "metadata": {},
     "output_type": "execute_result"
    }
   ],
   "source": [
    "\n",
    "c=[1,2,3,8]\n",
    "a={1,4,4}\n",
    "a.isdisjoint(c)"
   ]
  },
  {
   "cell_type": "code",
   "execution_count": 24,
   "metadata": {},
   "outputs": [
    {
     "data": {
      "text/plain": [
       "{1}"
      ]
     },
     "execution_count": 24,
     "metadata": {},
     "output_type": "execute_result"
    }
   ],
   "source": [
    "a={1,2,3,4} # the length of a and b is equal\n",
    "b={2,3,4,5} \n",
    "a-b # it returns remaining value in a"
   ]
  },
  {
   "cell_type": "code",
   "execution_count": 25,
   "metadata": {},
   "outputs": [
    {
     "data": {
      "text/plain": [
       "{5}"
      ]
     },
     "execution_count": 25,
     "metadata": {},
     "output_type": "execute_result"
    }
   ],
   "source": [
    "b-a # it returns remaining value in b"
   ]
  },
  {
   "cell_type": "code",
   "execution_count": 26,
   "metadata": {},
   "outputs": [
    {
     "data": {
      "text/plain": [
       "[1, 2, 3, 4]"
      ]
     },
     "execution_count": 26,
     "metadata": {},
     "output_type": "execute_result"
    }
   ],
   "source": [
    "sorted(a)"
   ]
  },
  {
   "cell_type": "code",
   "execution_count": 27,
   "metadata": {},
   "outputs": [
    {
     "data": {
      "text/plain": [
       "{1, 5}"
      ]
     },
     "execution_count": 27,
     "metadata": {},
     "output_type": "execute_result"
    }
   ],
   "source": [
    "a ^ b # elements either in a or in b"
   ]
  },
  {
   "cell_type": "code",
   "execution_count": 29,
   "metadata": {},
   "outputs": [
    {
     "data": {
      "text/plain": [
       "set()"
      ]
     },
     "execution_count": 29,
     "metadata": {},
     "output_type": "execute_result"
    }
   ],
   "source": [
    "d=set() # it creates a empty set\n",
    "d"
   ]
  },
  {
   "cell_type": "code",
   "execution_count": 23,
   "metadata": {},
   "outputs": [
    {
     "data": {
      "text/plain": [
       "[1, 2, 3, 4]"
      ]
     },
     "execution_count": 23,
     "metadata": {},
     "output_type": "execute_result"
    }
   ],
   "source": [
    "li=[1,2,3,4,1,2,3,4]\n",
    "d=list(set(li))\n",
    "d"
   ]
  },
  {
   "cell_type": "code",
   "execution_count": null,
   "metadata": {},
   "outputs": [],
   "source": []
  },
  {
   "cell_type": "markdown",
   "metadata": {},
   "source": [
    "## Functional programming\n",
    "\n",
    "- Procedural : C\n",
    "\n",
    "- Object Oriented : Java, Python\n",
    "\n",
    "- Scripiting : PHP , Python , Javascript , Shell\n",
    "\n",
    "- Functional : Python , Haskell , Scala\n",
    "\n",
    "- Logic : Prolog, Lisp"
   ]
  },
  {
   "cell_type": "markdown",
   "metadata": {},
   "source": [
    "## List Comprehensions\n",
    "\n",
    "- [expression for item in list]"
   ]
  },
  {
   "cell_type": "code",
   "execution_count": 35,
   "metadata": {},
   "outputs": [
    {
     "name": "stdout",
     "output_type": "stream",
     "text": [
      "[1, 2, 3, 4, 5, 6, 7, 8, 9, 10]\n",
      "Wall time: 4 ms\n"
     ]
    }
   ],
   "source": [
    "\n",
    "#  N natural numbers in list\n",
    "\n",
    "n=10\n",
    "l=[]\n",
    "for i in range(1,n+1):\n",
    "    l.append(i)\n",
    "print(l)\n",
    "\n"
   ]
  },
  {
   "cell_type": "code",
   "execution_count": 25,
   "metadata": {},
   "outputs": [
    {
     "data": {
      "text/plain": [
       "[2, 4, 6, 8, 10, 12, 14, 16, 18, 20]"
      ]
     },
     "execution_count": 25,
     "metadata": {},
     "output_type": "execute_result"
    }
   ],
   "source": [
    "n=10\n",
    "li=[i for i in range(1,n+1)]\n",
    "li"
   ]
  },
  {
   "cell_type": "code",
   "execution_count": 38,
   "metadata": {},
   "outputs": [
    {
     "name": "stdout",
     "output_type": "stream",
     "text": [
      "10\n"
     ]
    },
    {
     "data": {
      "text/plain": [
       "[1, 8, 27, 64, 125, 216, 343, 512, 729, 1000]"
      ]
     },
     "execution_count": 38,
     "metadata": {},
     "output_type": "execute_result"
    }
   ],
   "source": [
    "# Apply list comprehension to store the cubes on n natural numbers\n",
    "\n",
    "li=[i**3 for i in range(1,int(input())+1)]\n",
    "li"
   ]
  },
  {
   "cell_type": "code",
   "execution_count": 40,
   "metadata": {},
   "outputs": [
    {
     "name": "stdout",
     "output_type": "stream",
     "text": [
      "10\n"
     ]
    },
    {
     "data": {
      "text/plain": [
       "[1.4142135623730951,\n",
       " 1.7320508075688772,\n",
       " 2.0,\n",
       " 2.23606797749979,\n",
       " 2.449489742783178,\n",
       " 2.6457513110645907,\n",
       " 2.8284271247461903,\n",
       " 3.0]"
      ]
     },
     "execution_count": 40,
     "metadata": {},
     "output_type": "execute_result"
    }
   ],
   "source": [
    "import math\n",
    "square=[math.sqrt(i) for i in range(2,int(input())+1)]\n",
    "square"
   ]
  },
  {
   "cell_type": "code",
   "execution_count": 41,
   "metadata": {},
   "outputs": [
    {
     "name": "stdout",
     "output_type": "stream",
     "text": [
      "10\n"
     ]
    },
    {
     "data": {
      "text/plain": [
       "[4, 9, 16, 25, 36, 49, 64, 81, 100]"
      ]
     },
     "execution_count": 41,
     "metadata": {},
     "output_type": "execute_result"
    }
   ],
   "source": [
    "square1=[i**2 for i in range(2,int(input())+1)]\n",
    "square1"
   ]
  },
  {
   "cell_type": "code",
   "execution_count": 45,
   "metadata": {},
   "outputs": [
    {
     "data": {
      "text/plain": [
       "3628800"
      ]
     },
     "execution_count": 45,
     "metadata": {},
     "output_type": "execute_result"
    }
   ],
   "source": [
    "#function to calculate the factorial\n",
    "\n",
    "def factorial(n):\n",
    "    if n == 0 or n == 1:\n",
    "        return 1\n",
    "    return n*factorial(n-1)\n",
    "factorial(10)"
   ]
  },
  {
   "cell_type": "code",
   "execution_count": 47,
   "metadata": {},
   "outputs": [
    {
     "data": {
      "text/plain": [
       "[1, 2, 6, 24, 120, 720, 5040, 40320, 362880, 3628800]"
      ]
     },
     "execution_count": 47,
     "metadata": {},
     "output_type": "execute_result"
    }
   ],
   "source": [
    "#apply list compresenion to calculate factorial of n natural numbers\n",
    "n=10\n",
    "factoriallist=[factorial(i) for i in range(1,n+1)]\n",
    "factoriallist"
   ]
  },
  {
   "cell_type": "code",
   "execution_count": 51,
   "metadata": {},
   "outputs": [
    {
     "data": {
      "text/plain": [
       "[1, 3, 6, 10, 15, 21]"
      ]
     },
     "execution_count": 51,
     "metadata": {},
     "output_type": "execute_result"
    }
   ],
   "source": [
    "# store cumulative sum of numbers till n into a list\n",
    "n=6\n",
    "cummulative=[sum(range(1,i+1)) for i in range(1,n+1)]\n",
    "cummulative        "
   ]
  },
  {
   "cell_type": "code",
   "execution_count": 49,
   "metadata": {},
   "outputs": [
    {
     "data": {
      "text/plain": [
       "120"
      ]
     },
     "execution_count": 49,
     "metadata": {},
     "output_type": "execute_result"
    }
   ],
   "source": [
    "factorial(5)"
   ]
  },
  {
   "cell_type": "code",
   "execution_count": 54,
   "metadata": {},
   "outputs": [
    {
     "data": {
      "text/plain": [
       "['love']"
      ]
     },
     "execution_count": 54,
     "metadata": {},
     "output_type": "execute_result"
    }
   ],
   "source": [
    "listofwords=[\"i\", \"love\",\"india\"]\n",
    "result=[word for word in listofwords if word[0]!='i']\n",
    "result"
   ]
  },
  {
   "cell_type": "code",
   "execution_count": 56,
   "metadata": {},
   "outputs": [
    {
     "data": {
      "text/plain": [
       "[1972, 1976, 1980, 1984, 1988, 1992, 1996, 2000, 2004, 2008, 2012, 2016]"
      ]
     },
     "execution_count": 56,
     "metadata": {},
     "output_type": "execute_result"
    }
   ],
   "source": [
    "#list of comprehensive to store only leap years ina given time period\n",
    "st=1970\n",
    "et=2019\n",
    "leapyears=[year for year in range(st,et) if ((year%400)==0 or (year%100!=0 and year%4==0))]\n",
    "leapyears"
   ]
  },
  {
   "cell_type": "code",
   "execution_count": 1,
   "metadata": {},
   "outputs": [
    {
     "name": "stdout",
     "output_type": "stream",
     "text": [
      "1000\n",
      "2000\n"
     ]
    },
    {
     "data": {
      "text/plain": [
       "[1004,\n",
       " 1008,\n",
       " 1012,\n",
       " 1016,\n",
       " 1020,\n",
       " 1024,\n",
       " 1028,\n",
       " 1032,\n",
       " 1036,\n",
       " 1040,\n",
       " 1044,\n",
       " 1048,\n",
       " 1052,\n",
       " 1056,\n",
       " 1060,\n",
       " 1064,\n",
       " 1068,\n",
       " 1072,\n",
       " 1076,\n",
       " 1080,\n",
       " 1084,\n",
       " 1088,\n",
       " 1092,\n",
       " 1096,\n",
       " 1104,\n",
       " 1108,\n",
       " 1112,\n",
       " 1116,\n",
       " 1120,\n",
       " 1124,\n",
       " 1128,\n",
       " 1132,\n",
       " 1136,\n",
       " 1140,\n",
       " 1144,\n",
       " 1148,\n",
       " 1152,\n",
       " 1156,\n",
       " 1160,\n",
       " 1164,\n",
       " 1168,\n",
       " 1172,\n",
       " 1176,\n",
       " 1180,\n",
       " 1184,\n",
       " 1188,\n",
       " 1192,\n",
       " 1196,\n",
       " 1200,\n",
       " 1204,\n",
       " 1208,\n",
       " 1212,\n",
       " 1216,\n",
       " 1220,\n",
       " 1224,\n",
       " 1228,\n",
       " 1232,\n",
       " 1236,\n",
       " 1240,\n",
       " 1244,\n",
       " 1248,\n",
       " 1252,\n",
       " 1256,\n",
       " 1260,\n",
       " 1264,\n",
       " 1268,\n",
       " 1272,\n",
       " 1276,\n",
       " 1280,\n",
       " 1284,\n",
       " 1288,\n",
       " 1292,\n",
       " 1296,\n",
       " 1304,\n",
       " 1308,\n",
       " 1312,\n",
       " 1316,\n",
       " 1320,\n",
       " 1324,\n",
       " 1328,\n",
       " 1332,\n",
       " 1336,\n",
       " 1340,\n",
       " 1344,\n",
       " 1348,\n",
       " 1352,\n",
       " 1356,\n",
       " 1360,\n",
       " 1364,\n",
       " 1368,\n",
       " 1372,\n",
       " 1376,\n",
       " 1380,\n",
       " 1384,\n",
       " 1388,\n",
       " 1392,\n",
       " 1396,\n",
       " 1404,\n",
       " 1408,\n",
       " 1412,\n",
       " 1416,\n",
       " 1420,\n",
       " 1424,\n",
       " 1428,\n",
       " 1432,\n",
       " 1436,\n",
       " 1440,\n",
       " 1444,\n",
       " 1448,\n",
       " 1452,\n",
       " 1456,\n",
       " 1460,\n",
       " 1464,\n",
       " 1468,\n",
       " 1472,\n",
       " 1476,\n",
       " 1480,\n",
       " 1484,\n",
       " 1488,\n",
       " 1492,\n",
       " 1496,\n",
       " 1504,\n",
       " 1508,\n",
       " 1512,\n",
       " 1516,\n",
       " 1520,\n",
       " 1524,\n",
       " 1528,\n",
       " 1532,\n",
       " 1536,\n",
       " 1540,\n",
       " 1544,\n",
       " 1548,\n",
       " 1552,\n",
       " 1556,\n",
       " 1560,\n",
       " 1564,\n",
       " 1568,\n",
       " 1572,\n",
       " 1576,\n",
       " 1580,\n",
       " 1584,\n",
       " 1588,\n",
       " 1592,\n",
       " 1596,\n",
       " 1600,\n",
       " 1604,\n",
       " 1608,\n",
       " 1612,\n",
       " 1616,\n",
       " 1620,\n",
       " 1624,\n",
       " 1628,\n",
       " 1632,\n",
       " 1636,\n",
       " 1640,\n",
       " 1644,\n",
       " 1648,\n",
       " 1652,\n",
       " 1656,\n",
       " 1660,\n",
       " 1664,\n",
       " 1668,\n",
       " 1672,\n",
       " 1676,\n",
       " 1680,\n",
       " 1684,\n",
       " 1688,\n",
       " 1692,\n",
       " 1696,\n",
       " 1704,\n",
       " 1708,\n",
       " 1712,\n",
       " 1716,\n",
       " 1720,\n",
       " 1724,\n",
       " 1728,\n",
       " 1732,\n",
       " 1736,\n",
       " 1740,\n",
       " 1744,\n",
       " 1748,\n",
       " 1752,\n",
       " 1756,\n",
       " 1760,\n",
       " 1764,\n",
       " 1768,\n",
       " 1772,\n",
       " 1776,\n",
       " 1780,\n",
       " 1784,\n",
       " 1788,\n",
       " 1792,\n",
       " 1796,\n",
       " 1804,\n",
       " 1808,\n",
       " 1812,\n",
       " 1816,\n",
       " 1820,\n",
       " 1824,\n",
       " 1828,\n",
       " 1832,\n",
       " 1836,\n",
       " 1840,\n",
       " 1844,\n",
       " 1848,\n",
       " 1852,\n",
       " 1856,\n",
       " 1860,\n",
       " 1864,\n",
       " 1868,\n",
       " 1872,\n",
       " 1876,\n",
       " 1880,\n",
       " 1884,\n",
       " 1888,\n",
       " 1892,\n",
       " 1896,\n",
       " 1904,\n",
       " 1908,\n",
       " 1912,\n",
       " 1916,\n",
       " 1920,\n",
       " 1924,\n",
       " 1928,\n",
       " 1932,\n",
       " 1936,\n",
       " 1940,\n",
       " 1944,\n",
       " 1948,\n",
       " 1952,\n",
       " 1956,\n",
       " 1960,\n",
       " 1964,\n",
       " 1968,\n",
       " 1972,\n",
       " 1976,\n",
       " 1980,\n",
       " 1984,\n",
       " 1988,\n",
       " 1992,\n",
       " 1996,\n",
       " 2000]"
      ]
     },
     "execution_count": 1,
     "metadata": {},
     "output_type": "execute_result"
    }
   ],
   "source": [
    "leapyears=[year for year in range(int(input()),int(input())+1) if ((year%400)==0 or (year%100!=0 and year%4==0))]\n",
    "leapyears"
   ]
  },
  {
   "cell_type": "code",
   "execution_count": 27,
   "metadata": {},
   "outputs": [
    {
     "data": {
      "text/plain": [
       "[1, 2, 3, 4, 5]"
      ]
     },
     "execution_count": 27,
     "metadata": {},
     "output_type": "execute_result"
    }
   ],
   "source": [
    "li = [1,2,3,2,1, 4, 4, 5,5,5]\n",
    "u2 = []\n",
    "[u2.append(i) for i in li if i not in u2 ]\n",
    "u2"
   ]
  },
  {
   "cell_type": "markdown",
   "metadata": {},
   "source": [
    "### Iterators\n",
    "- Iterable - Strings, Lists, Tuples, Sets, Dictionaries\n",
    "- Convert Iterable to Iterator --> iter()\n",
    "- For Loop:"
   ]
  },
  {
   "cell_type": "code",
   "execution_count": 17,
   "metadata": {},
   "outputs": [
    {
     "name": "stdout",
     "output_type": "stream",
     "text": [
      "1:\n",
      "p\n",
      "2:\n",
      "\n",
      "\n",
      "y\n"
     ]
    }
   ],
   "source": [
    "it=iter(\"python\")\n",
    "print(\"1:\")\n",
    "print(next(it))\n",
    "print(\"2:\")\n",
    "print(\"\\n\")\n",
    "print(next(it))\n"
   ]
  },
  {
   "cell_type": "markdown",
   "metadata": {},
   "source": [
    "### Generator\n",
    "- Generator is a Function\n"
   ]
  },
  {
   "cell_type": "code",
   "execution_count": 25,
   "metadata": {},
   "outputs": [
    {
     "data": {
      "text/plain": [
       "512"
      ]
     },
     "execution_count": 25,
     "metadata": {},
     "output_type": "execute_result"
    }
   ],
   "source": [
    "\n",
    "def generator():\n",
    "    n=2\n",
    "    yield n\n",
    "    n=n**3\n",
    "    yield n\n",
    "    n=n**3\n",
    "    yield n\n",
    "a=generator()\n",
    "#generator()\n",
    "next(a)\n",
    "next(a)\n",
    "next(a)\n",
    "#next(a)"
   ]
  },
  {
   "cell_type": "code",
   "execution_count": 35,
   "metadata": {},
   "outputs": [
    {
     "data": {
      "text/plain": [
       "2417851639229258349412352"
      ]
     },
     "execution_count": 35,
     "metadata": {},
     "output_type": "execute_result"
    }
   ],
   "source": [
    "def generator():\n",
    "    n=2\n",
    "    for i in range(1,5):\n",
    "        n**=3\n",
    "        yield n\n",
    "a=generator()\n",
    "next(a)\n",
    "next(a)\n",
    "next(a)\n",
    "next(a)\n"
   ]
  },
  {
   "cell_type": "code",
   "execution_count": 44,
   "metadata": {},
   "outputs": [
    {
     "data": {
      "text/plain": [
       "35184372088832"
      ]
     },
     "execution_count": 44,
     "metadata": {},
     "output_type": "execute_result"
    }
   ],
   "source": [
    "def generator():\n",
    "    n=2\n",
    "    for i in range(1,5):\n",
    "        n**=3\n",
    "        yield n\n",
    "a=generator()\n",
    "next(a)\n",
    "b=next(a)**2\n",
    "b*=next(a)\n",
    "b"
   ]
  },
  {
   "cell_type": "code",
   "execution_count": 40,
   "metadata": {},
   "outputs": [
    {
     "name": "stdout",
     "output_type": "stream",
     "text": [
      "8\n",
      "512\n",
      "134217728\n",
      "2417851639229258349412352\n"
     ]
    },
    {
     "ename": "StopIteration",
     "evalue": "",
     "output_type": "error",
     "traceback": [
      "\u001b[1;31m---------------------------------------------------------------------------\u001b[0m",
      "\u001b[1;31mStopIteration\u001b[0m                             Traceback (most recent call last)",
      "\u001b[1;32m<ipython-input-40-3160fdffea50>\u001b[0m in \u001b[0;36m<module>\u001b[1;34m\u001b[0m\n\u001b[0;32m      6\u001b[0m \u001b[0ma\u001b[0m\u001b[1;33m=\u001b[0m\u001b[0mgenerator1\u001b[0m\u001b[1;33m(\u001b[0m\u001b[1;33m)\u001b[0m\u001b[1;33m\u001b[0m\u001b[1;33m\u001b[0m\u001b[0m\n\u001b[0;32m      7\u001b[0m \u001b[1;32mfor\u001b[0m \u001b[0mi\u001b[0m \u001b[1;32min\u001b[0m \u001b[0mrange\u001b[0m\u001b[1;33m(\u001b[0m\u001b[1;36m5\u001b[0m\u001b[1;33m)\u001b[0m\u001b[1;33m:\u001b[0m\u001b[1;33m\u001b[0m\u001b[1;33m\u001b[0m\u001b[0m\n\u001b[1;32m----> 8\u001b[1;33m     \u001b[0mprint\u001b[0m\u001b[1;33m(\u001b[0m\u001b[0mnext\u001b[0m\u001b[1;33m(\u001b[0m\u001b[0ma\u001b[0m\u001b[1;33m)\u001b[0m\u001b[1;33m)\u001b[0m\u001b[1;33m\u001b[0m\u001b[1;33m\u001b[0m\u001b[0m\n\u001b[0m",
      "\u001b[1;31mStopIteration\u001b[0m: "
     ]
    }
   ],
   "source": [
    "def generator1():\n",
    "    n=2\n",
    "    for i in range(1,5):\n",
    "        n**=3\n",
    "        yield n\n",
    "a=generator1()\n",
    "for i in range(5):\n",
    "    print(next(a))"
   ]
  },
  {
   "cell_type": "code",
   "execution_count": null,
   "metadata": {},
   "outputs": [],
   "source": []
  }
 ],
 "metadata": {
  "kernelspec": {
   "display_name": "Python 3",
   "language": "python",
   "name": "python3"
  },
  "language_info": {
   "codemirror_mode": {
    "name": "ipython",
    "version": 3
   },
   "file_extension": ".py",
   "mimetype": "text/x-python",
   "name": "python",
   "nbconvert_exporter": "python",
   "pygments_lexer": "ipython3",
   "version": "3.7.3"
  }
 },
 "nbformat": 4,
 "nbformat_minor": 2
}
