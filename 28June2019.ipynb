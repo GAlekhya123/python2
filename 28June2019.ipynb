{
 "cells": [
  {
   "cell_type": "markdown",
   "metadata": {},
   "source": [
    "## Day Objective\n",
    "- Map\n",
    "- Lambda\n",
    "- Filter\n",
    "- use cases - file/Data Encryption"
   ]
  },
  {
   "cell_type": "markdown",
   "metadata": {},
   "source": [
    "### Map\n",
    "\n",
    "Mapping - Entity with Function\n",
    "\n",
    "- f: x^2 + 3*x + 9\n",
    "\n",
    "- x:[1,10]\n",
    "\n",
    "- f(x)\n",
    "\n",
    "- map(function,iterable)"
   ]
  },
  {
   "cell_type": "code",
   "execution_count": 6,
   "metadata": {},
   "outputs": [
    {
     "name": "stdout",
     "output_type": "stream",
     "text": [
      "1 5 25 125 625 3125 15625 78125 390625 1953125 "
     ]
    }
   ],
   "source": [
    "def powerN(a,n):\n",
    "    for i in range(n):\n",
    "        print(a**i,end=\" \")\n",
    "    return\n",
    "powerN(5,10)"
   ]
  },
  {
   "cell_type": "code",
   "execution_count": 37,
   "metadata": {},
   "outputs": [
    {
     "data": {
      "text/plain": [
       "{1, 8, 27, 64, 125, 216}"
      ]
     },
     "execution_count": 37,
     "metadata": {},
     "output_type": "execute_result"
    }
   ],
   "source": [
    "def cube(n):\n",
    "    return n**3\n",
    "li=[1,2,3,4,5,6]\n",
    "set((map(cube,li)))\n",
    "   "
   ]
  },
  {
   "cell_type": "code",
   "execution_count": 44,
   "metadata": {},
   "outputs": [
    {
     "data": {
      "text/plain": [
       "[1, 8, 27, 64]"
      ]
     },
     "execution_count": 44,
     "metadata": {},
     "output_type": "execute_result"
    }
   ],
   "source": [
    "numbers=[int(i) for i in li]\n",
    "[cube(i) for i in numbers]"
   ]
  },
  {
   "cell_type": "code",
   "execution_count": 43,
   "metadata": {},
   "outputs": [
    {
     "data": {
      "text/plain": [
       "['1', '2', '3', '4', '5', '6', '7', '8', '9']"
      ]
     },
     "execution_count": 43,
     "metadata": {},
     "output_type": "execute_result"
    }
   ],
   "source": [
    "#li=[\"1\",\"2\",\"3\",\"4\"]\n",
    "li1=list(range(1,10))\n",
    "list(map(str,li1))"
   ]
  },
  {
   "cell_type": "markdown",
   "metadata": {},
   "source": [
    "## Filter\n",
    "\n",
    "- used to check Boolean values"
   ]
  },
  {
   "cell_type": "code",
   "execution_count": 18,
   "metadata": {},
   "outputs": [
    {
     "data": {
      "text/plain": [
       "[1, 2, 3]"
      ]
     },
     "execution_count": 18,
     "metadata": {},
     "output_type": "execute_result"
    }
   ],
   "source": [
    "li=[1,2,3,\"a\"]\n",
    "def isDigit(c):\n",
    "    c=str(c)\n",
    "    if c.isdigit():\n",
    "        \n",
    "        return True\n",
    "    return False\n",
    "isDigit(li)\n",
    "list(filter(isDigit,li))"
   ]
  },
  {
   "cell_type": "code",
   "execution_count": 17,
   "metadata": {},
   "outputs": [
    {
     "data": {
      "text/plain": [
       "['a', 'b', 'v']"
      ]
     },
     "execution_count": 17,
     "metadata": {},
     "output_type": "execute_result"
    }
   ],
   "source": [
    "#li=[1,2,3,\"a\"]\n",
    "li=[1,2,3,\"a\",\"b\",\"v\"]\n",
    "def isDigit(c):\n",
    "    c=str(c)\n",
    "    if c.isdigit():\n",
    "        \n",
    "        return 0\n",
    "    return 1\n",
    "isDigit(li)\n",
    "list(filter(isDigit,li))"
   ]
  },
  {
   "cell_type": "code",
   "execution_count": 35,
   "metadata": {},
   "outputs": [
    {
     "name": "stdout",
     "output_type": "stream",
     "text": [
      "[2, 3, 5, 7, 11, 13, 17, 19, 23, 29, 31, 37, 41, 43, 47, 53, 59, 61, 67, 71, 73, 79, 83, 89, 97]\n"
     ]
    }
   ],
   "source": [
    "# Identify  the given number is prime or not\n",
    "li=[1,2,3,4,5,6,7,8]\n",
    "def prime(n):\n",
    "    count=0\n",
    "    for i in range(1,n+1):\n",
    "        if n%i==0:\n",
    "            count=count+1\n",
    "    if count==2:\n",
    "        return True\n",
    "    return False\n",
    "\n",
    "primelist1=list(filter(prime,range(lb,ub)))\n",
    "print(primelist1)\n",
    "\n"
   ]
  },
  {
   "cell_type": "code",
   "execution_count": 34,
   "metadata": {},
   "outputs": [
    {
     "data": {
      "text/plain": [
       "[2,\n",
       " 3,\n",
       " 5,\n",
       " 7,\n",
       " 11,\n",
       " 13,\n",
       " 17,\n",
       " 19,\n",
       " 23,\n",
       " 29,\n",
       " 31,\n",
       " 37,\n",
       " 41,\n",
       " 43,\n",
       " 47,\n",
       " 53,\n",
       " 59,\n",
       " 61,\n",
       " 67,\n",
       " 71,\n",
       " 73,\n",
       " 79,\n",
       " 83,\n",
       " 89,\n",
       " 97]"
      ]
     },
     "execution_count": 34,
     "metadata": {},
     "output_type": "execute_result"
    }
   ],
   "source": [
    "ub=100\n",
    "lb=1\n",
    "primelist=[i for i in range(lb,ub+1) if prime(i)]\n",
    "primelist"
   ]
  },
  {
   "cell_type": "code",
   "execution_count": 36,
   "metadata": {},
   "outputs": [
    {
     "data": {
      "text/plain": [
       "[1, 2, 3, 4, 5, 6, 7, 8, 9]"
      ]
     },
     "execution_count": 36,
     "metadata": {},
     "output_type": "execute_result"
    }
   ],
   "source": [
    "list(range(1,10))"
   ]
  },
  {
   "cell_type": "markdown",
   "metadata": {},
   "source": [
    "## Lambda\n",
    "\n",
    "- Anonymous Functions\n",
    "- can be embedded into Lists,Maps,Filters\n",
    "- synatx: lambda arguments(s):expression"
   ]
  },
  {
   "cell_type": "code",
   "execution_count": 47,
   "metadata": {},
   "outputs": [
    {
     "name": "stdout",
     "output_type": "stream",
     "text": [
      "True\n"
     ]
    }
   ],
   "source": [
    "a = lambda x: x%2==0\n",
    "print(a(2))"
   ]
  },
  {
   "cell_type": "code",
   "execution_count": 48,
   "metadata": {},
   "outputs": [
    {
     "name": "stdout",
     "output_type": "stream",
     "text": [
      "0\n"
     ]
    }
   ],
   "source": [
    "a = lambda x: x%2\n",
    "print(a(2))"
   ]
  },
  {
   "cell_type": "code",
   "execution_count": 55,
   "metadata": {},
   "outputs": [
    {
     "data": {
      "text/plain": [
       "[1, 4, 9, 16, 25, 36, 49, 64, 81]"
      ]
     },
     "execution_count": 55,
     "metadata": {},
     "output_type": "execute_result"
    }
   ],
   "source": [
    "#lambda in map functions\n",
    "list(map(lambda x:x**2 ,range(1,10)))\n"
   ]
  },
  {
   "cell_type": "code",
   "execution_count": 60,
   "metadata": {},
   "outputs": [
    {
     "data": {
      "text/plain": [
       "[1, 3, 5, 7, 9]"
      ]
     },
     "execution_count": 60,
     "metadata": {},
     "output_type": "execute_result"
    }
   ],
   "source": [
    "list(filter(lambda x:x%2,range(1,10)))"
   ]
  },
  {
   "cell_type": "code",
   "execution_count": 74,
   "metadata": {},
   "outputs": [
    {
     "data": {
      "text/plain": [
       "[8, 19, 16, 14, 16, 9, 8, 6, 13, 15]"
      ]
     },
     "execution_count": 74,
     "metadata": {},
     "output_type": "execute_result"
    }
   ],
   "source": [
    "from random import randint\n",
    "\n",
    "internal1=[randint(0,25) for i in range(10)]\n",
    "internal2=[randint(0,25) for j in range(10)]\n",
    "average=list(map(lambda x,y:(x+y)//2,internal1,internal2))\n",
    "average"
   ]
  },
  {
   "cell_type": "code",
   "execution_count": 71,
   "metadata": {},
   "outputs": [
    {
     "data": {
      "text/plain": [
       "[15, 11, 15, 16, 11]"
      ]
     },
     "execution_count": 71,
     "metadata": {},
     "output_type": "execute_result"
    }
   ],
   "source": [
    "passedstudents=list(filter(lambda passed:passed>10,average))\n",
    "passedstudents"
   ]
  },
  {
   "cell_type": "code",
   "execution_count": 75,
   "metadata": {},
   "outputs": [
    {
     "data": {
      "text/plain": [
       "[8, 9, 8, 6]"
      ]
     },
     "execution_count": 75,
     "metadata": {},
     "output_type": "execute_result"
    }
   ],
   "source": [
    "failedstudents=list(filter(lambda fail:fail<10,average))\n",
    "failedstudents"
   ]
  },
  {
   "cell_type": "code",
   "execution_count": null,
   "metadata": {},
   "outputs": [],
   "source": []
  },
  {
   "cell_type": "markdown",
   "metadata": {},
   "source": [
    "## Applying Programming to the Marks Analysis Application"
   ]
  },
  {
   "cell_type": "code",
   "execution_count": 81,
   "metadata": {},
   "outputs": [],
   "source": [
    "#Generate Marks data\n",
    "from random import randint\n",
    "def generateMarks(n,lb,ub):\n",
    "    filename = \"DataFiles/Marks.txt\"\n",
    "    with open(filename,\"w\") as f:\n",
    "        for i in range(n):\n",
    "            marks=randint(lb,ub)\n",
    "            f.write(str(marks)+\"\\n\")\n",
    "generateMarks(100,0,100)\n",
    "        "
   ]
  },
  {
   "cell_type": "code",
   "execution_count": 82,
   "metadata": {},
   "outputs": [
    {
     "data": {
      "text/plain": [
       "50"
      ]
     },
     "execution_count": 82,
     "metadata": {},
     "output_type": "execute_result"
    }
   ],
   "source": [
    "# Marks Analysis\n",
    "#Percentage of passed,failed and distinction\n",
    "#Frequency of Highest and lowest marks\n",
    "\n",
    "import re\n",
    "def ReadMarkslist(filepath):\n",
    "    with open(filepath,\"r\") as f:\n",
    "        filedata=f.read()\n",
    "    return(list(map(int,filedata.split())))\n",
    "def classAverage(filepath):\n",
    "    Markslist=ReadMarkslist(filepath)\n",
    "    return sum(Markslist)//len(Markslist)\n",
    "\n",
    "filepath = \"DataFiles/Marks.txt\"\n",
    "classAverage(filepath)\n",
    "    \n",
    "    \n",
    "    "
   ]
  },
  {
   "cell_type": "code",
   "execution_count": 86,
   "metadata": {},
   "outputs": [
    {
     "data": {
      "text/plain": [
       "28.999999999999996"
      ]
     },
     "execution_count": 86,
     "metadata": {},
     "output_type": "execute_result"
    }
   ],
   "source": [
    "def Failedpercentage(filepath):\n",
    "    Markslist=ReadMarkslist(filepath)\n",
    "    k= list(filter(lambda marks:marks<35,Markslist))\n",
    "    return (len(k)/len(Markslist) )*100\n",
    "filepath = \"DataFiles/Marks.txt\"\n",
    "Failedpercentage(filepath)"
   ]
  },
  {
   "cell_type": "code",
   "execution_count": 87,
   "metadata": {},
   "outputs": [
    {
     "data": {
      "text/plain": [
       "30.0"
      ]
     },
     "execution_count": 87,
     "metadata": {},
     "output_type": "execute_result"
    }
   ],
   "source": [
    "def Distinction(filepath):\n",
    "    Markslist=ReadMarkslist(filepath)\n",
    "    k= list(filter(lambda marks:marks>70,Markslist))\n",
    "    return (len(k)/len(Markslist) )*100\n",
    "filepath = \"DataFiles/Marks.txt\"\n",
    "Distinction(filepath)"
   ]
  },
  {
   "cell_type": "code",
   "execution_count": 92,
   "metadata": {},
   "outputs": [
    {
     "data": {
      "text/plain": [
       "2"
      ]
     },
     "execution_count": 92,
     "metadata": {},
     "output_type": "execute_result"
    }
   ],
   "source": [
    "def highestfrequency(filepath):\n",
    "    Markslist=ReadMarkslist(filepath)\n",
    "    return Markslist.count(max(Markslist))\n",
    "    \n",
    "highestfrequency(filepath)    "
   ]
  },
  {
   "cell_type": "code",
   "execution_count": null,
   "metadata": {},
   "outputs": [],
   "source": []
  },
  {
   "cell_type": "markdown",
   "metadata": {},
   "source": [
    "## Data Encryption\n",
    "\n",
    "- key- Mapping of characters with replaced\n",
    "\n",
    "- 0-->4\n",
    "- 1-->5\n",
    "- 2-->6\n",
    "- 3-->7\n",
    "- 4-->8\n",
    "- 5-->9\n",
    "- 6-->0\n",
    "- 7-->1\n",
    "- 8-->2\n",
    "- 9-->3\n"
   ]
  },
  {
   "cell_type": "code",
   "execution_count": 93,
   "metadata": {},
   "outputs": [],
   "source": [
    "#Function to generate key for encryption\n",
    "keypath=\"DataFiles/key.txt\"\n",
    "def generatekey(keypath):\n",
    "    with open(keypath,\"w\") as f:\n",
    "        for i in range(10):\n",
    "            if i<6:\n",
    "                f.write(str(i)+\" \"+str(i+4)+\"\\n\")\n",
    "            else:\n",
    "                f.write(str(i)+\" \"+str(i-6)+\"\\n\")\n",
    "            \n",
    "generatekey(keypath)"
   ]
  },
  {
   "cell_type": "code",
   "execution_count": 101,
   "metadata": {},
   "outputs": [],
   "source": [
    "#Function to generate key for encryption\n",
    "keypath=\"DataFiles/key.txt\"\n",
    "def generatekey(keypath):\n",
    "    with open(keypath,\"w\") as f:\n",
    "        for i in range(10):\n",
    "            if i<5:\n",
    "                f.write(str(i)+\" \"+str(i+5)+\"\\n\")\n",
    "            else:\n",
    "                f.write(str(i)+\" \"+str(i+5)[-1:]+\"\\n\")\n",
    "            \n",
    "generatekey(keypath)"
   ]
  },
  {
   "cell_type": "code",
   "execution_count": 106,
   "metadata": {},
   "outputs": [
    {
     "data": {
      "text/plain": [
       "{'0': '5',\n",
       " '1': '6',\n",
       " '2': '7',\n",
       " '3': '8',\n",
       " '4': '9',\n",
       " '5': '0',\n",
       " '6': '1',\n",
       " '7': '2',\n",
       " '8': '3',\n",
       " '9': '4'}"
      ]
     },
     "execution_count": 106,
     "metadata": {},
     "output_type": "execute_result"
    }
   ],
   "source": [
    "# Function to encrypt a data file\n",
    "keyfile=\"DataFiles/key.txt\"\n",
    "def dictionarykeyfile(keyfile):\n",
    "    key={}\n",
    "    with open(keyfile,\"r\") as f:\n",
    "        for line in f:\n",
    "            line=line.split()\n",
    "            key[line[0]] = line[1]\n",
    "    return key\n",
    "dictionarykeyfile(keyfile)"
   ]
  },
  {
   "cell_type": "code",
   "execution_count": 6,
   "metadata": {},
   "outputs": [],
   "source": [
    "#Encryption Marks Data \n",
    "\n",
    "keyfile=\"DataFiles/key.txt\"\n",
    "def dictionarykeyfile(keyfile):\n",
    "    key={}\n",
    "    with open(keyfile,\"r\") as f:\n",
    "        for line in f:\n",
    "            line=line.split()\n",
    "            key[line[0]] = line[1]\n",
    "    return key\n",
    "\n",
    "\n",
    "def encryptionMarksData(datfile,keyfile):\n",
    "    key=dictionarykeyfile(keyfile)\n",
    "    with open(datafile,'r') as f:\n",
    "        filedata=f.read().split()\n",
    "    with open('DataFiles/encrypteMarks.txt','w') as f:\n",
    "        for mark in filedata:\n",
    "            line=''\n",
    "            for n in mark:\n",
    "                line+=key[n]\n",
    "            f.write(line+'\\n')\n",
    "    return \n",
    "\n",
    "datafile='DataFiles/marks.txt'\n",
    "keyfile=\"DataFiles/key.txt\"\n",
    "encryptionMarksData(datafile,keyfile)"
   ]
  },
  {
   "cell_type": "code",
   "execution_count": 10,
   "metadata": {},
   "outputs": [],
   "source": [
    "def decryptionMarksdata(encryptedfile,keyfile):\n",
    "    key=dictionarykeyfile(keyfile)\n",
    "    key=key.items()\n",
    "    newkey={}\n",
    "    for key,value in key:\n",
    "        newkey[value]=key\n",
    "        \n",
    "    \n",
    "    with open(encryptedfile,'r') as f:\n",
    "        encrypteddata=f.read().split('\\n')\n",
    "    with open('DataFiles/decryptedMarks.txt','w') as f:\n",
    "        \n",
    "        for encryptedmark in encrypteddata:\n",
    "            line=''\n",
    "            for n in encryptedmark:\n",
    "                line+=newkey[n]\n",
    "            f.write(line+'\\n')\n",
    "            \n",
    "    return\n",
    "encryptedfile='datafiles/encrypteMarks.txt'\n",
    "decryptionMarksdata(encryptedfile,keyfile)"
   ]
  },
  {
   "cell_type": "code",
   "execution_count": 12,
   "metadata": {},
   "outputs": [
    {
     "data": {
      "text/plain": [
       "{'0', '1', '2', '3', '4', '5', '6', '7', '8', '9'}"
      ]
     },
     "execution_count": 12,
     "metadata": {},
     "output_type": "execute_result"
    }
   ],
   "source": [
    "#comprehensions\n",
    "keyfile=\"DataFiles/key.txt\"\n",
    "key = dictionarykeyfile(keyfile)\n",
    "evenkeys={item for item in key}\n",
    "evenkeys"
   ]
  },
  {
   "cell_type": "code",
   "execution_count": null,
   "metadata": {},
   "outputs": [],
   "source": []
  },
  {
   "cell_type": "code",
   "execution_count": null,
   "metadata": {},
   "outputs": [],
   "source": []
  }
 ],
 "metadata": {
  "kernelspec": {
   "display_name": "Python 3",
   "language": "python",
   "name": "python3"
  },
  "language_info": {
   "codemirror_mode": {
    "name": "ipython",
    "version": 3
   },
   "file_extension": ".py",
   "mimetype": "text/x-python",
   "name": "python",
   "nbconvert_exporter": "python",
   "pygments_lexer": "ipython3",
   "version": "3.7.3"
  }
 },
 "nbformat": 4,
 "nbformat_minor": 2
}
