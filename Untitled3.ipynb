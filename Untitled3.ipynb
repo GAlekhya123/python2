{
 "cells": [
  {
   "cell_type": "code",
   "execution_count": 2,
   "metadata": {},
   "outputs": [
    {
     "name": "stdout",
     "output_type": "stream",
     "text": [
      "2\n",
      "eagle eagle eat\n",
      "Invalid\n",
      "how wow what that\n",
      "Valid\n"
     ]
    }
   ],
   "source": [
    "for i in range(int(input())):\n",
    "   li = input().split()\n",
    "   if len(li) == 1:\n",
    "       print(\"Valid\")\n",
    "   else:\n",
    "       flag = True\n",
    "       for i in range(1,len(li)):\n",
    "           if li[i][0] != li[i-1][-1]:\n",
    "               flag = False\n",
    "       for i in li:\n",
    "           if li.count(i)>1:\n",
    "               flag = False\n",
    "   if flag == True:\n",
    "       print('Valid')\n",
    "   else:\n",
    "       print('Invalid')"
   ]
  },
  {
   "cell_type": "code",
   "execution_count": null,
   "metadata": {},
   "outputs": [],
   "source": []
  }
 ],
 "metadata": {
  "kernelspec": {
   "display_name": "Python 3",
   "language": "python",
   "name": "python3"
  },
  "language_info": {
   "codemirror_mode": {
    "name": "ipython",
    "version": 3
   },
   "file_extension": ".py",
   "mimetype": "text/x-python",
   "name": "python",
   "nbconvert_exporter": "python",
   "pygments_lexer": "ipython3",
   "version": "3.7.3"
  }
 },
 "nbformat": 4,
 "nbformat_minor": 2
}
