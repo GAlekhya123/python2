{
 "cells": [
  {
   "cell_type": "code",
   "execution_count": 30,
   "metadata": {},
   "outputs": [
    {
     "name": "stdout",
     "output_type": "stream",
     "text": [
      "{'http://www.wikipedia.com': 1, 'https://www.google.co.in': 1, 'https://www.hackerearth.com': 3}\n",
      "['http://www.wikipedia.com', 'https://www.google.co.in']\n",
      "{1: ['http://www.wikipedia.com', 'https://www.google.co.in'], 3: ['https://www.hackerearth.com']}\n",
      "https://www.hackerearth.com\n",
      "https://www.google.co.in\n",
      "http://www.wikipedia.com\n"
     ]
    }
   ],
   "source": [
    "sites=[\"http://www.wikipedia.com\",\"https://www.google.co.in\",\"https://www.hackerearth.com\",\"https://www.hackerearth.com\",\"https://www.hackerearth.com\"]\n",
    "##sites\n",
    "site_counts={}\n",
    "for site in sites:\n",
    "   site_counts[site]=site_counts.get(site,0)+1\n",
    "#print(len(site_counts))\n",
    "print(site_counts)\n",
    "#{3:['https://www.hackerearth.com'],1:['https://www.wikipedia.com','https://www.google.com']}\n",
    "res_dict={}\n",
    "for k,v in site_counts.items():#('https://www.wikipedia.com': 1)\n",
    "    if v in res_dict:\n",
    "        l=res_dict[v]\n",
    "        #print(l)\n",
    "        l.append(k)\n",
    "        print(l)\n",
    "        res_dict[v]=l\n",
    "    else:\n",
    "        res_dict[v]=[k]\n",
    "print(res_dict)\n",
    "res_dict=sorted(res_dict.items(),reverse=True)\n",
    "#res_dict\n",
    "for t in res_dict:\n",
    "   #print(t)\n",
    "   for val in sorted(t[1],key=lambda l:l[l.index('.')+1:]):\n",
    "       print(val)"
   ]
  },
  {
   "cell_type": "code",
   "execution_count": 5,
   "metadata": {},
   "outputs": [
    {
     "data": {
      "text/plain": [
       "[('alekhya', 90), ('gireesha', 45), ('mohan', 20), ('ranga', 68)]"
      ]
     },
     "execution_count": 5,
     "metadata": {},
     "output_type": "execute_result"
    }
   ],
   "source": [
    "result=[(\"mohan\",20),(\"alekhya\",90),(\"ranga\",68),(\"gireesha\",45)]\n",
    "res=sorted(result)\n",
    "res#acessending order"
   ]
  },
  {
   "cell_type": "code",
   "execution_count": 7,
   "metadata": {},
   "outputs": [
    {
     "data": {
      "text/plain": [
       "[('ranga', 68), ('mohan', 20), ('gireesha', 45), ('alekhya', 90)]"
      ]
     },
     "execution_count": 7,
     "metadata": {},
     "output_type": "execute_result"
    }
   ],
   "source": [
    "res=sorted(result,reverse=True)\n",
    "res#decending order"
   ]
  },
  {
   "cell_type": "code",
   "execution_count": 13,
   "metadata": {},
   "outputs": [
    {
     "data": {
      "text/plain": [
       "[('mohan', 20), ('gireesha', 45), ('ranga', 68), ('alekhya', 90)]"
      ]
     },
     "execution_count": 13,
     "metadata": {},
     "output_type": "execute_result"
    }
   ],
   "source": [
    "sorted(result, key= lambda t:t[0][3:])\n",
    "#based on names 3rd index it is arranging ascending order"
   ]
  },
  {
   "cell_type": "code",
   "execution_count": 15,
   "metadata": {},
   "outputs": [
    {
     "data": {
      "text/plain": [
       "[('mohan', 20), ('alekhya', 90), ('ranga', 68), ('gireesha', 45)]"
      ]
     },
     "execution_count": 15,
     "metadata": {},
     "output_type": "execute_result"
    }
   ],
   "source": [
    "sorted(result, key= lambda t:t[0][-3:])\n",
    "#based on names 3rd index it is arranging ascending order"
   ]
  },
  {
   "cell_type": "code",
   "execution_count": 10,
   "metadata": {},
   "outputs": [
    {
     "data": {
      "text/plain": [
       "[('mohan', 20), ('gireesha', 45), ('ranga', 68), ('alekhya', 90)]"
      ]
     },
     "execution_count": 10,
     "metadata": {},
     "output_type": "execute_result"
    }
   ],
   "source": [
    "res=sorted(result,key=lambda t:t[1])# or t:t[-1]\n",
    "res# based on values ascending order"
   ]
  },
  {
   "cell_type": "code",
   "execution_count": 9,
   "metadata": {},
   "outputs": [
    {
     "data": {
      "text/plain": [
       "[('alekhya', 90), ('ranga', 68), ('gireesha', 45), ('mohan', 20)]"
      ]
     },
     "execution_count": 9,
     "metadata": {},
     "output_type": "execute_result"
    }
   ],
   "source": [
    "res=sorted(result,reverse=True,key=lambda t:t[1])\n",
    "res#based on values decending order"
   ]
  },
  {
   "cell_type": "code",
   "execution_count": null,
   "metadata": {},
   "outputs": [],
   "source": []
  },
  {
   "cell_type": "code",
   "execution_count": null,
   "metadata": {},
   "outputs": [],
   "source": []
  }
 ],
 "metadata": {
  "kernelspec": {
   "display_name": "Python 3",
   "language": "python",
   "name": "python3"
  },
  "language_info": {
   "codemirror_mode": {
    "name": "ipython",
    "version": 3
   },
   "file_extension": ".py",
   "mimetype": "text/x-python",
   "name": "python",
   "nbconvert_exporter": "python",
   "pygments_lexer": "ipython3",
   "version": "3.7.3"
  }
 },
 "nbformat": 4,
 "nbformat_minor": 2
}
