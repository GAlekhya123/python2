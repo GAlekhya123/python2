{
 "cells": [
  {
   "cell_type": "markdown",
   "metadata": {},
   "source": [
    "#### Contact Applications"
   ]
  },
  {
   "cell_type": "code",
   "execution_count": null,
   "metadata": {},
   "outputs": [],
   "source": [
    "# Adding contacts to a file\n",
    "import re\n",
    "from Packages import validators\n",
    "def addContact(name,phnum,email):\n",
    "    with open('DataFiles\\contacts.txt','r+') as f:\n",
    "        filedata = f.read()\n",
    "        if not re.search(name,filedata):\n",
    "            if validators.phoneNumberValidater(phnum) and validators.emailValidater(email):\n",
    "                line = '\\n'+name+\",\"+phnum+\",\"+email\n",
    "                f.write(line)\n",
    "                print('added contact')\n",
    "            else:\n",
    "                print(\"invalid\")\n",
    "        else:\n",
    "            name+\" already exists\"\n",
    "    return\n",
    "addContact(\"name45\",\"9982647375\",\"email.1@gmail.com\")"
   ]
  },
  {
   "cell_type": "code",
   "execution_count": null,
   "metadata": {},
   "outputs": [],
   "source": [
    "# Search Contacts in a file\n",
    "def searchForContact(filepath,name):\n",
    "    with open(filepath,'r') as f:\n",
    "        filelines = f.readlines()\n",
    "        for line in filelines:\n",
    "            if name in line:\n",
    "                return \"contact Searched\"\n",
    "        return print(\"contact not Searched\")\n",
    "searchForContact('DataFiles\\contacts.txt','name1')"
   ]
  },
  {
   "cell_type": "code",
   "execution_count": null,
   "metadata": {},
   "outputs": [],
   "source": [
    "# fun to check anagrams\n",
    "'''def checkAnagrams(s1,s2):\n",
    "    if len(s1) != len(s2):\n",
    "        return False\n",
    "    if sorted(s1) == sorted(s2):\n",
    "        return True        \n",
    "    return False\n",
    "    \n",
    "def anagrams(s1,s2):\n",
    "    s1 = list(s1)\n",
    "    s2 = list(s2)\n",
    "    if not checkAnagrams(s1,s2):\n",
    "        c = 0\n",
    "        for char in s1:\n",
    "            if char in s2:\n",
    "                index = s2.index(char)\n",
    "                #s2.pop(index)\n",
    "                c +=1\n",
    "    else:\n",
    "        c = 0\n",
    "        for char2 in s2:\n",
    "            if char2 in s1:\n",
    "                index = s1.index(char)\n",
    "                #s1.pop(index)\n",
    "                c += 1\n",
    "    return (len(s1)-c) + (len(s2)-c)\n",
    "s1 = 'abc'#input()\n",
    "s2 = 'dec'#input()\n",
    "print(anagrams(s1,s2))'''\n",
    "#anagrams\n",
    "\n",
    "r=int(input())\n",
    "for i in range(r):\n",
    "    a=list(input())\n",
    "    b=list(input())\n",
    "    k=0\n",
    "    if len(a)<=len(b) :\n",
    "        for i in range(len(a)):\n",
    "            if a[i] in b:\n",
    "                k=k+1\n",
    "                gh=b.index(a[i])\n",
    "                b[gh]='0'\n",
    "    else:\n",
    "        for j in range(len(b)):\n",
    "            if b[j] in a:\n",
    "                k=k+1\n",
    "                gh=a.index(b[j])\n",
    "                a[gh]='0'\n",
    "print((len(a)-k)+(len(b)-k))"
   ]
  },
  {
   "cell_type": "code",
   "execution_count": null,
   "metadata": {},
   "outputs": [],
   "source": []
  }
 ],
 "metadata": {
  "kernelspec": {
   "display_name": "Python 3",
   "language": "python",
   "name": "python3"
  },
  "language_info": {
   "codemirror_mode": {
    "name": "ipython",
    "version": 3
   },
   "file_extension": ".py",
   "mimetype": "text/x-python",
   "name": "python",
   "nbconvert_exporter": "python",
   "pygments_lexer": "ipython3",
   "version": "3.7.3"
  }
 },
 "nbformat": 4,
 "nbformat_minor": 2
}
