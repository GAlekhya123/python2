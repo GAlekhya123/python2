{
 "cells": [
  {
   "cell_type": "code",
   "execution_count": 1,
   "metadata": {},
   "outputs": [
    {
     "name": "stdout",
     "output_type": "stream",
     "text": [
      "alekhya\n",
      "a\n",
      "l\n",
      "e\n",
      "k\n",
      "h\n",
      "y\n",
      "a\n"
     ]
    }
   ],
   "source": [
    "#Write a program to print every character of a string entered by user in a new line using loop.\n",
    "\n",
    "s=input()\n",
    "for i in s:\n",
    "    print(i)"
   ]
  },
  {
   "cell_type": "code",
   "execution_count": 2,
   "metadata": {},
   "outputs": [
    {
     "data": {
      "text/plain": [
       "12"
      ]
     },
     "execution_count": 2,
     "metadata": {},
     "output_type": "execute_result"
    }
   ],
   "source": [
    "#Write a program to find the length of the string \"refrigerator\" without using len function.\n",
    "\n",
    "s=\"refrigerator\"\n",
    "len(s)"
   ]
  },
  {
   "cell_type": "code",
   "execution_count": 13,
   "metadata": {},
   "outputs": [
    {
     "name": "stdout",
     "output_type": "stream",
     "text": [
      "not present\n",
      "not present\n",
      "present\n",
      "not present\n"
     ]
    }
   ],
   "source": [
    "#Write a program to check if the word 'orange' is present in the \"This is orange juice\".\n",
    "\n",
    "\n",
    "s=\"This is orange juice\"\n",
    "s_split=s.split()\n",
    "for i in s_split:\n",
    "    if \"orange\" in i:\n",
    "        print(\"present\")\n",
    "    else:\n",
    "        print(\"not present\")\n",
    "    \n",
    "    "
   ]
  },
  {
   "cell_type": "code",
   "execution_count": 21,
   "metadata": {},
   "outputs": [
    {
     "name": "stdout",
     "output_type": "stream",
     "text": [
      "1\n",
      "2\n",
      "3\n",
      "4\n",
      "5\n",
      "6\n",
      "7\n",
      "8\n",
      "9\n",
      "10\n"
     ]
    }
   ],
   "source": [
    "#Write a program to find the first and the last occurence of the letter 'o' and character ',' in \"Hello, World\"\n",
    "\n",
    "s=\"Hello, World\"\n",
    "count=0\n",
    "k=\"\"\n",
    "for i in s:\n",
    "    if i!=\",\":\n",
    "        \n",
    "\n",
    "       \n"
   ]
  },
  {
   "cell_type": "code",
   "execution_count": 23,
   "metadata": {},
   "outputs": [
    {
     "data": {
      "text/plain": [
       "dict"
      ]
     },
     "execution_count": 23,
     "metadata": {},
     "output_type": "execute_result"
    }
   ],
   "source": [
    "d={}\n",
    "type(d)"
   ]
  },
  {
   "cell_type": "code",
   "execution_count": 42,
   "metadata": {},
   "outputs": [
    {
     "name": "stdout",
     "output_type": "stream",
     "text": [
      "student 1 alekhya 111\n",
      "student 2 archana 22\n",
      "student 3 parvathi 33\n"
     ]
    }
   ],
   "source": [
    "d1={\"names\":[\"alekhya\",\"archana\",\"parvathi\"],\"rollnumber\":[111,22,33]}\n",
    "for i in range(len(d1[\"names\"])):\n",
    "    print(\"student\",i+1,end=\" \")\n",
    "    print(d1[\"names\"][i],d1[\"rollnumber\"][i])\n"
   ]
  },
  {
   "cell_type": "code",
   "execution_count": 63,
   "metadata": {},
   "outputs": [
    {
     "name": "stdout",
     "output_type": "stream",
     "text": [
      "sunil : 0\n",
      "anil : 1\n",
      "rahul : 2\n"
     ]
    }
   ],
   "source": [
    "\n",
    "names=[\"sunil\",\"anil\",\"rahul\"]\n",
    "for i in range(len(names)):\n",
    "    #print(i)\n",
    "    print(names[i],\":\",i)"
   ]
  },
  {
   "cell_type": "code",
   "execution_count": 54,
   "metadata": {},
   "outputs": [
    {
     "name": "stdout",
     "output_type": "stream",
     "text": [
      "1 sunil\n",
      "2 anil\n",
      "3 rahul\n"
     ]
    }
   ],
   "source": [
    "for i,v in enumerate(names):\n",
    "    print(i,v)"
   ]
  },
  {
   "cell_type": "code",
   "execution_count": 55,
   "metadata": {},
   "outputs": [
    {
     "name": "stdout",
     "output_type": "stream",
     "text": [
      "1 sunil\n",
      "2 anil\n",
      "3 rahul\n"
     ]
    }
   ],
   "source": [
    "for i,v in enumerate(names,start=1):\n",
    "    print(i,v)"
   ]
  },
  {
   "cell_type": "code",
   "execution_count": 56,
   "metadata": {},
   "outputs": [
    {
     "name": "stdout",
     "output_type": "stream",
     "text": [
      "1 sunil\n",
      "2 anil\n",
      "3 rahul\n"
     ]
    }
   ],
   "source": [
    "for i,v in enumerate(names):\n",
    "    print(i+1,v)"
   ]
  },
  {
   "cell_type": "code",
   "execution_count": 57,
   "metadata": {},
   "outputs": [
    {
     "data": {
      "text/plain": [
       "['__class__',\n",
       " '__contains__',\n",
       " '__delattr__',\n",
       " '__delitem__',\n",
       " '__dir__',\n",
       " '__doc__',\n",
       " '__eq__',\n",
       " '__format__',\n",
       " '__ge__',\n",
       " '__getattribute__',\n",
       " '__getitem__',\n",
       " '__gt__',\n",
       " '__hash__',\n",
       " '__init__',\n",
       " '__init_subclass__',\n",
       " '__iter__',\n",
       " '__le__',\n",
       " '__len__',\n",
       " '__lt__',\n",
       " '__ne__',\n",
       " '__new__',\n",
       " '__reduce__',\n",
       " '__reduce_ex__',\n",
       " '__repr__',\n",
       " '__setattr__',\n",
       " '__setitem__',\n",
       " '__sizeof__',\n",
       " '__str__',\n",
       " '__subclasshook__',\n",
       " 'clear',\n",
       " 'copy',\n",
       " 'fromkeys',\n",
       " 'get',\n",
       " 'items',\n",
       " 'keys',\n",
       " 'pop',\n",
       " 'popitem',\n",
       " 'setdefault',\n",
       " 'update',\n",
       " 'values']"
      ]
     },
     "execution_count": 57,
     "metadata": {},
     "output_type": "execute_result"
    }
   ],
   "source": [
    "dir(dict)"
   ]
  },
  {
   "cell_type": "code",
   "execution_count": 4,
   "metadata": {},
   "outputs": [
    {
     "ename": "NameError",
     "evalue": "name 'names' is not defined",
     "output_type": "error",
     "traceback": [
      "\u001b[1;31m---------------------------------------------------------------------------\u001b[0m",
      "\u001b[1;31mNameError\u001b[0m                                 Traceback (most recent call last)",
      "\u001b[1;32m<ipython-input-4-389bf9acf45b>\u001b[0m in \u001b[0;36m<module>\u001b[1;34m\u001b[0m\n\u001b[0;32m      1\u001b[0m \u001b[0md1\u001b[0m\u001b[1;33m=\u001b[0m\u001b[1;33m{\u001b[0m\u001b[1;34m\"names\"\u001b[0m\u001b[1;33m:\u001b[0m\u001b[1;33m[\u001b[0m\u001b[1;34m\"alekhya\"\u001b[0m\u001b[1;33m,\u001b[0m\u001b[1;34m\"archana\"\u001b[0m\u001b[1;33m,\u001b[0m\u001b[1;34m\"parvathi\"\u001b[0m\u001b[1;33m]\u001b[0m\u001b[1;33m,\u001b[0m\u001b[1;34m\"rollnumber\"\u001b[0m\u001b[1;33m:\u001b[0m\u001b[1;33m[\u001b[0m\u001b[1;36m111\u001b[0m\u001b[1;33m,\u001b[0m\u001b[1;36m22\u001b[0m\u001b[1;33m,\u001b[0m\u001b[1;36m33\u001b[0m\u001b[1;33m]\u001b[0m\u001b[1;33m}\u001b[0m\u001b[1;33m\u001b[0m\u001b[1;33m\u001b[0m\u001b[0m\n\u001b[0;32m      2\u001b[0m \u001b[1;33m\u001b[0m\u001b[0m\n\u001b[1;32m----> 3\u001b[1;33m \u001b[0mmarks\u001b[0m\u001b[1;33m=\u001b[0m\u001b[1;33m{\u001b[0m\u001b[1;33m}\u001b[0m\u001b[1;33m.\u001b[0m\u001b[0mfromkeys\u001b[0m\u001b[1;33m(\u001b[0m\u001b[0mnames\u001b[0m\u001b[1;33m,\u001b[0m\u001b[1;36m55\u001b[0m\u001b[1;33m)\u001b[0m\u001b[1;33m\u001b[0m\u001b[1;33m\u001b[0m\u001b[0m\n\u001b[0m\u001b[0;32m      4\u001b[0m \u001b[0mmarks\u001b[0m\u001b[1;33m\u001b[0m\u001b[1;33m\u001b[0m\u001b[0m\n",
      "\u001b[1;31mNameError\u001b[0m: name 'names' is not defined"
     ]
    }
   ],
   "source": [
    "d1={\"names\":[\"alekhya\",\"archana\",\"parvathi\"],\"rollnumber\":[111,22,33]}\n",
    "\n",
    "marks={}.fromkeys(names,55)\n",
    "marks"
   ]
  },
  {
   "cell_type": "code",
   "execution_count": 71,
   "metadata": {},
   "outputs": [
    {
     "name": "stdout",
     "output_type": "stream",
     "text": [
      "None\n"
     ]
    }
   ],
   "source": [
    "#d1.get(\"names\")\n",
    "print(d1.get(\"salary\"))"
   ]
  },
  {
   "cell_type": "code",
   "execution_count": 74,
   "metadata": {},
   "outputs": [
    {
     "data": {
      "text/plain": [
       "'notexisted'"
      ]
     },
     "execution_count": 74,
     "metadata": {},
     "output_type": "execute_result"
    }
   ],
   "source": [
    "d1.get(\"salary\",\"notexisted\")"
   ]
  },
  {
   "cell_type": "code",
   "execution_count": 106,
   "metadata": {},
   "outputs": [
    {
     "name": "stdout",
     "output_type": "stream",
     "text": [
      "{'sunil': '55', 'anil': '65', 'abdul': '78'}\n"
     ]
    }
   ],
   "source": [
    "name1=\" sunil 55 65 anil abdul 78\"\n",
    "name2=name1.split()\n",
    "d={}\n",
    "li=[]\n",
    "li1=[]\n",
    "for i in name2:\n",
    "    if i.isdigit():\n",
    "        li.append(i)\n",
    "    else:\n",
    "        if i.isalpha():\n",
    "            li1.append(i)\n",
    "for k in range(len(li1)):\n",
    "    d[li1[k]]=li[k]\n",
    "print(d)\n",
    "        \n",
    "\n",
    "\n"
   ]
  },
  {
   "cell_type": "code",
   "execution_count": 114,
   "metadata": {},
   "outputs": [
    {
     "name": "stdout",
     "output_type": "stream",
     "text": [
      "1\n",
      "aww.dsf.awd\n",
      "awd\n"
     ]
    }
   ],
   "source": [
    "def spliting(n):\n",
    "    s=n.split(\".\")[-1]\n",
    "    print(s)\n",
    "\n",
    "t=int(input())\n",
    "for i in range(t):\n",
    "    n=input()\n",
    "    spliting(n)"
   ]
  },
  {
   "cell_type": "code",
   "execution_count": 111,
   "metadata": {},
   "outputs": [
    {
     "data": {
      "text/plain": [
       "['www', 'alekm', 'com']"
      ]
     },
     "execution_count": 111,
     "metadata": {},
     "output_type": "execute_result"
    }
   ],
   "source": [
    "a=\"www.alekm.com\"\n",
    "a.split(\".\")"
   ]
  },
  {
   "cell_type": "code",
   "execution_count": 115,
   "metadata": {},
   "outputs": [
    {
     "name": "stdout",
     "output_type": "stream",
     "text": [
      "<class 'int'>\n"
     ]
    }
   ],
   "source": [
    "print(type(4))"
   ]
  },
  {
   "cell_type": "code",
   "execution_count": 116,
   "metadata": {},
   "outputs": [
    {
     "data": {
      "text/plain": [
       "5"
      ]
     },
     "execution_count": 116,
     "metadata": {},
     "output_type": "execute_result"
    }
   ],
   "source": [
    "int.__add__(2,3)"
   ]
  },
  {
   "cell_type": "code",
   "execution_count": 117,
   "metadata": {},
   "outputs": [
    {
     "data": {
      "text/plain": [
       "-1"
      ]
     },
     "execution_count": 117,
     "metadata": {},
     "output_type": "execute_result"
    }
   ],
   "source": [
    "int.__sub__(7,8)"
   ]
  },
  {
   "cell_type": "code",
   "execution_count": 120,
   "metadata": {},
   "outputs": [
    {
     "data": {
      "text/plain": [
       "['a', 'a', 'b', 'b', 'c', 'c']"
      ]
     },
     "execution_count": 120,
     "metadata": {},
     "output_type": "execute_result"
    }
   ],
   "source": [
    "s=\"a a b b c c\"\n",
    "s_split=s.split(\" \")\n"
   ]
  },
  {
   "cell_type": "code",
   "execution_count": 123,
   "metadata": {},
   "outputs": [
    {
     "name": "stdout",
     "output_type": "stream",
     "text": [
      "{'a': 2, 'b': 2, 'c': 2}\n"
     ]
    }
   ],
   "source": [
    "s=\"aabbcc\"\n",
    "s1=list(s)\n",
    "d={}\n",
    "for i in s1:\n",
    "    if i in d:\n",
    "        d[i]+=1\n",
    "    else:\n",
    "        d[i]=1\n",
    "print(d)"
   ]
  },
  {
   "cell_type": "code",
   "execution_count": 142,
   "metadata": {},
   "outputs": [
    {
     "name": "stdout",
     "output_type": "stream",
     "text": [
      "10 0 1\n",
      "0 10 1\n",
      "10 1 2\n"
     ]
    }
   ],
   "source": [
    "def range1(size,st=0,inc=1):\n",
    "    print(size,st,inc)\n",
    "range1(10)\n",
    "range1(0,10)\n",
    "range1(10,1,2)"
   ]
  },
  {
   "cell_type": "code",
   "execution_count": 159,
   "metadata": {},
   "outputs": [
    {
     "name": "stdout",
     "output_type": "stream",
     "text": [
      "5 6\n",
      "11\n"
     ]
    }
   ],
   "source": [
    "#required argument\n",
    "def add(a,b):\n",
    "    print(a,b)\n",
    "    print(a+b)\n",
    "add(b=6,a=5)"
   ]
  },
  {
   "cell_type": "code",
   "execution_count": 148,
   "metadata": {},
   "outputs": [
    {
     "name": "stdout",
     "output_type": "stream",
     "text": [
      "hi$hello\n"
     ]
    }
   ],
   "source": [
    "#\n",
    "print(\"hi\",end=\"$\")\n",
    "print(\"hello\")"
   ]
  },
  {
   "cell_type": "code",
   "execution_count": 162,
   "metadata": {},
   "outputs": [
    {
     "data": {
      "text/plain": [
       "5"
      ]
     },
     "execution_count": 162,
     "metadata": {},
     "output_type": "execute_result"
    }
   ],
   "source": [
    "#argument length\n",
    "def su(*ar):\n",
    "    return len(ar)\n",
    "su(1,2,3,40,\"exit\")"
   ]
  },
  {
   "cell_type": "code",
   "execution_count": 171,
   "metadata": {},
   "outputs": [
    {
     "name": "stdout",
     "output_type": "stream",
     "text": [
      "46\n"
     ]
    }
   ],
   "source": [
    "def su(*ar):\n",
    "    #print(ar)\n",
    "    ##print(a)\n",
    "    #print(b)\n",
    "    s=0\n",
    "    for i in (ar):\n",
    "        if i==\"exit\":\n",
    "            break\n",
    "        s+=i\n",
    "    print(s)\n",
    "        \n",
    "su(1,2,3,40,\"exit\",45)"
   ]
  },
  {
   "cell_type": "code",
   "execution_count": 188,
   "metadata": {},
   "outputs": [
    {
     "data": {
      "text/plain": [
       "'invalid'"
      ]
     },
     "execution_count": 188,
     "metadata": {},
     "output_type": "execute_result"
    }
   ],
   "source": [
    "import re\n",
    "def phonenumber(inp):\n",
    "    pattern=\"^[6-9][0-9]{9}$|[+][9][1][ ][6-9][0-9]{9}$|[0][6-9][0-9]{9}$\"\n",
    "    if re.match(pattern,str(inp)):\n",
    "        return \"valid\"\n",
    "    return \"invalid\"\n",
    "phonenumber(\"109010203749\")"
   ]
  },
  {
   "cell_type": "code",
   "execution_count": 194,
   "metadata": {},
   "outputs": [],
   "source": [
    "s=\"abcDEF123@0\"\n",
    "l=[]\n",
    "l1=[]\n",
    "l2=[]\n",
    "l3=[]\n",
    "d={}\n",
    "l4=[\"upper\",\"lower\",\"numeric\",\"special\"]\n",
    "\n",
    "for i in s:\n",
    "    if i.islower():\n",
    "        l1.append(i)\n",
    "    elif i.isnumeric():\n",
    "        l2.append(i)\n",
    "    elif i.isupper():\n",
    "        l.append(i)\n",
    "        \n",
    "    else:\n",
    "        l3.append(i)\n",
    "\n",
    "l_c=len(l)\n",
    "l1_c=len(l1)\n",
    "l2_c=len(l2)\n",
    "l3_c=len(l3)\n"
   ]
  },
  {
   "cell_type": "code",
   "execution_count": 5,
   "metadata": {},
   "outputs": [
    {
     "data": {
      "text/plain": [
       "{'alekhya': 55, 'archana': 55, 'parvathi': 55}"
      ]
     },
     "execution_count": 5,
     "metadata": {},
     "output_type": "execute_result"
    }
   ],
   "source": [
    "d1={\"names\":[\"alekhya\",\"archana\",\"parvathi\"],\"rollnumber\":[111,22,33]}\n",
    "\n",
    "names=[\"alekhya\",\"archana\",\"parvathi\"]\n",
    "marks={}.fromkeys(names,55)\n",
    "marks"
   ]
  },
  {
   "cell_type": "code",
   "execution_count": null,
   "metadata": {},
   "outputs": [],
   "source": []
  }
 ],
 "metadata": {
  "kernelspec": {
   "display_name": "Python 3",
   "language": "python",
   "name": "python3"
  },
  "language_info": {
   "codemirror_mode": {
    "name": "ipython",
    "version": 3
   },
   "file_extension": ".py",
   "mimetype": "text/x-python",
   "name": "python",
   "nbconvert_exporter": "python",
   "pygments_lexer": "ipython3",
   "version": "3.7.3"
  }
 },
 "nbformat": 4,
 "nbformat_minor": 2
}
